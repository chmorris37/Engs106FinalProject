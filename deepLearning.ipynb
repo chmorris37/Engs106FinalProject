{
 "cells": [
  {
   "cell_type": "markdown",
   "metadata": {},
   "source": [
    "# ENGS106 Final Project: Deep Learning Pipeline for Optiver Data\n",
    "\n",
    "This notebook includes a deep learning pipeline using a GRU-based model for the Optiver\n",
    "closing auction dataset.\n",
    "\n",
    "The Optiver dataset consists of historic data for the NASDAQ ten-minute closing auction.\n",
    "It is used to predict future price movements relative to a synthetic index.\n",
    "The split for cross validation is done between dates (there are 5,237,760 rows overall).\n"
   ]
  },
  {
   "cell_type": "markdown",
   "metadata": {},
   "source": [
    "## Todo\n",
    "\n",
    "- Fix comments\n",
    "- Try new preprocessing\n",
    "- 5.94 MAE, -0.0003 R^2\n",
    "- Feature elimination"
   ]
  },
  {
   "cell_type": "markdown",
   "metadata": {},
   "source": [
    "## Import Libraries, Set Parameters, Read & Display Data"
   ]
  },
  {
   "cell_type": "code",
   "execution_count": 1,
   "metadata": {},
   "outputs": [],
   "source": [
    "# Cell 1: Revised Imports, Seed, Hyperparameters & CV Splitter Definition\n",
    "import zipfile\n",
    "import numpy as np\n",
    "import pandas as pd\n",
    "import torch\n",
    "import torch.nn as nn\n",
    "import torch.optim as optim\n",
    "from torch.utils.data import Dataset, DataLoader\n",
    "from sklearn.preprocessing import MinMaxScaler  # Still using MinMaxScaler\n",
    "from sklearn.metrics import mean_absolute_error, mean_squared_error, r2_score\n",
    "import matplotlib.pyplot as plt\n",
    "from tqdm import tqdm\n",
    "import random\n",
    "from torch.nn.utils import clip_grad_norm_\n",
    "from torch.optim import AdamW  # Using AdamW\n",
    "from torch.optim.lr_scheduler import ReduceLROnPlateau\n",
    "\n",
    "# Reproducibility\n",
    "def set_seed(seed=42):\n",
    "    random.seed(seed)\n",
    "    np.random.seed(seed)\n",
    "    torch.manual_seed(seed)\n",
    "    if torch.cuda.is_available():\n",
    "        torch.cuda.manual_seed_all(seed)\n",
    "set_seed(42)\n",
    "\n",
    "# Revised Hyperparameters\n",
    "BATCH_SIZE = 32           # Smaller batch size for more frequent updates\n",
    "NUM_EPOCHS = 300          # Increase epochs for longer training\n",
    "LEARNING_RATE = 1e-3      # Lower learning rate for more stable convergence\n",
    "WEIGHT_DECAY = 1e-3       # Slightly reduced weight decay\n",
    "DROPOUT = 0.1             # Reduced dropout to allow more capacity\n",
    "PATIENCE = 10             # Increased patience for early stopping\n",
    "LR_PATIENCE = 5\n",
    "N_FOLDS = 5               # Number of CV folds\n",
    "\n",
    "device = torch.device('cuda' if torch.cuda.is_available() else 'cpu')\n",
    "pd.set_option('display.max_columns', None)\n",
    "\n",
    "# -------------------------------------------------------------\n",
    "# PurgedGroupTimeSeriesSplit (same as before)\n",
    "from sklearn.model_selection._split import _BaseKFold, indexable, _num_samples\n",
    "from sklearn.utils.validation import _deprecate_positional_args\n",
    "\n",
    "class PurgedGroupTimeSeriesSplit(_BaseKFold):\n",
    "    @_deprecate_positional_args\n",
    "    def __init__(self, n_splits=5, *,\n",
    "                 max_train_group_size=np.inf,\n",
    "                 max_val_group_size=np.inf,\n",
    "                 val_group_gap=10,\n",
    "                 verbose=False):\n",
    "        super().__init__(n_splits, shuffle=False, random_state=None)\n",
    "        self.max_train_group_size = max_train_group_size\n",
    "        self.max_val_group_size = max_val_group_size\n",
    "        self.val_group_gap = val_group_gap\n",
    "        self.verbose = verbose\n",
    "        \n",
    "    def split(self, X, y=None, groups=None):\n",
    "        if groups is None:\n",
    "            raise ValueError(\"The 'groups' parameter should not be None\")\n",
    "        X, y, groups = indexable(X, y, groups)\n",
    "        n_splits = self.n_splits\n",
    "        group_gap = self.val_group_gap\n",
    "        max_val_group_size = self.max_val_group_size\n",
    "        n_folds = n_splits + 1\n",
    "        u, ind = np.unique(groups, return_index=True)\n",
    "        unique_groups = u[np.argsort(ind)]\n",
    "        n_groups = _num_samples(unique_groups)\n",
    "        if n_folds > n_groups:\n",
    "            raise ValueError(\"Number of folds={} cannot be greater than number of groups={}\".format(n_folds, n_groups))\n",
    "        group_val_size = min(n_groups // n_folds, max_val_group_size)\n",
    "        group_val_starts = range(n_groups - n_splits * group_val_size, n_groups, group_val_size)\n",
    "        group_dict = {}\n",
    "        n_samples = _num_samples(X)\n",
    "        for idx in range(n_samples):\n",
    "            group = groups[idx]\n",
    "            group_dict.setdefault(group, []).append(idx)\n",
    "        for group_val_start in group_val_starts:\n",
    "            train_indices = []\n",
    "            val_indices = []\n",
    "            # training groups: all groups before the validation gap\n",
    "            for g in unique_groups[:max(0, group_val_start - group_gap)]:\n",
    "                train_indices.extend(group_dict[g])\n",
    "            # validation groups: the next group_val_size groups\n",
    "            for g in unique_groups[group_val_start:group_val_start + group_val_size]:\n",
    "                val_indices.extend(group_dict[g])\n",
    "            yield train_indices, val_indices\n"
   ]
  },
  {
   "cell_type": "code",
   "execution_count": 2,
   "metadata": {},
   "outputs": [
    {
     "data": {
      "text/html": [
       "<div>\n",
       "<style scoped>\n",
       "    .dataframe tbody tr th:only-of-type {\n",
       "        vertical-align: middle;\n",
       "    }\n",
       "\n",
       "    .dataframe tbody tr th {\n",
       "        vertical-align: top;\n",
       "    }\n",
       "\n",
       "    .dataframe thead th {\n",
       "        text-align: right;\n",
       "    }\n",
       "</style>\n",
       "<table border=\"1\" class=\"dataframe\">\n",
       "  <thead>\n",
       "    <tr style=\"text-align: right;\">\n",
       "      <th></th>\n",
       "      <th>stock_id</th>\n",
       "      <th>date_id</th>\n",
       "      <th>seconds_in_bucket</th>\n",
       "      <th>imbalance_size</th>\n",
       "      <th>imbalance_buy_sell_flag</th>\n",
       "      <th>reference_price</th>\n",
       "      <th>matched_size</th>\n",
       "      <th>far_price</th>\n",
       "      <th>near_price</th>\n",
       "      <th>bid_price</th>\n",
       "      <th>bid_size</th>\n",
       "      <th>ask_price</th>\n",
       "      <th>ask_size</th>\n",
       "      <th>wap</th>\n",
       "      <th>target</th>\n",
       "      <th>time_id</th>\n",
       "      <th>row_id</th>\n",
       "      <th>baseline_prediction</th>\n",
       "      <th>simple_prediction</th>\n",
       "      <th>seconds_in_bucket_group</th>\n",
       "      <th>imbalance_buy_flag</th>\n",
       "      <th>imbalance_sell_flag</th>\n",
       "      <th>no_imbalance</th>\n",
       "      <th>bid_plus_ask_sizes</th>\n",
       "      <th>median_vol</th>\n",
       "      <th>high_volume</th>\n",
       "      <th>imbalance_ratio</th>\n",
       "      <th>bid_ask_volume_diff</th>\n",
       "      <th>mid_price</th>\n",
       "      <th>size_imbalance</th>\n",
       "      <th>price_spread</th>\n",
       "      <th>liquidity_imbalance</th>\n",
       "      <th>matched_imbalance</th>\n",
       "      <th>market_urgency</th>\n",
       "      <th>market_urgency_v2</th>\n",
       "      <th>far_price_reference_price_imb</th>\n",
       "      <th>near_price_reference_price_imb</th>\n",
       "      <th>near_price_far_price_imb</th>\n",
       "      <th>bid_price_reference_price_imb</th>\n",
       "      <th>bid_price_far_price_imb</th>\n",
       "      <th>bid_price_near_price_imb</th>\n",
       "      <th>ask_price_reference_price_imb</th>\n",
       "      <th>ask_price_far_price_imb</th>\n",
       "      <th>ask_price_near_price_imb</th>\n",
       "      <th>ask_price_bid_price_imb</th>\n",
       "      <th>wap_reference_price_imb</th>\n",
       "      <th>wap_far_price_imb</th>\n",
       "      <th>wap_near_price_imb</th>\n",
       "      <th>wap_bid_price_imb</th>\n",
       "      <th>wap_ask_price_imb</th>\n",
       "      <th>near_price_far_price_reference_price_imb2</th>\n",
       "      <th>bid_price_far_price_reference_price_imb2</th>\n",
       "      <th>bid_price_near_price_reference_price_imb2</th>\n",
       "      <th>bid_price_near_price_far_price_imb2</th>\n",
       "      <th>ask_price_far_price_reference_price_imb2</th>\n",
       "      <th>ask_price_near_price_reference_price_imb2</th>\n",
       "      <th>ask_price_near_price_far_price_imb2</th>\n",
       "      <th>ask_price_bid_price_reference_price_imb2</th>\n",
       "      <th>ask_price_bid_price_far_price_imb2</th>\n",
       "      <th>ask_price_bid_price_near_price_imb2</th>\n",
       "      <th>wap_far_price_reference_price_imb2</th>\n",
       "      <th>wap_near_price_reference_price_imb2</th>\n",
       "      <th>wap_near_price_far_price_imb2</th>\n",
       "      <th>wap_bid_price_reference_price_imb2</th>\n",
       "      <th>wap_bid_price_far_price_imb2</th>\n",
       "      <th>wap_bid_price_near_price_imb2</th>\n",
       "      <th>wap_ask_price_reference_price_imb2</th>\n",
       "      <th>wap_ask_price_far_price_imb2</th>\n",
       "      <th>wap_ask_price_near_price_imb2</th>\n",
       "      <th>wap_ask_price_bid_price_imb2</th>\n",
       "      <th>stock_weights</th>\n",
       "      <th>weighted_wap</th>\n",
       "      <th>wap_momentum</th>\n",
       "      <th>imbalance_momentum</th>\n",
       "      <th>spread_intensity</th>\n",
       "      <th>price_pressure</th>\n",
       "      <th>depth_pressure</th>\n",
       "      <th>spread_depth_ratio</th>\n",
       "      <th>mid_price_movement</th>\n",
       "      <th>micro_price</th>\n",
       "      <th>relative_spread</th>\n",
       "      <th>all_prices_mean</th>\n",
       "      <th>all_sizes_mean</th>\n",
       "      <th>all_prices_std</th>\n",
       "      <th>all_sizes_std</th>\n",
       "      <th>all_prices_skew</th>\n",
       "      <th>all_sizes_skew</th>\n",
       "      <th>all_prices_kurt</th>\n",
       "      <th>all_sizes_kurt</th>\n",
       "      <th>vwap</th>\n",
       "      <th>rolling_mean_matched_size</th>\n",
       "      <th>wap_skewness</th>\n",
       "      <th>wap_kurtosis</th>\n",
       "      <th>is_high_volume</th>\n",
       "      <th>matched_size_group_first_ratio</th>\n",
       "      <th>ask_price_group_first_ratio</th>\n",
       "      <th>bid_price_group_first_ratio</th>\n",
       "      <th>ask_size_group_first_ratio</th>\n",
       "      <th>bid_size_group_first_ratio</th>\n",
       "      <th>wap_group_first_ratio</th>\n",
       "      <th>near_price_group_first_ratio</th>\n",
       "      <th>far_price_group_first_ratio</th>\n",
       "      <th>reference_price_group_first_ratio</th>\n",
       "      <th>matched_size_group_expanding_mean100</th>\n",
       "      <th>ask_price_group_expanding_mean100</th>\n",
       "      <th>bid_price_group_expanding_mean100</th>\n",
       "      <th>ask_size_group_expanding_mean100</th>\n",
       "      <th>bid_size_group_expanding_mean100</th>\n",
       "      <th>wap_group_expanding_mean100</th>\n",
       "      <th>near_price_group_expanding_mean100</th>\n",
       "      <th>far_price_group_expanding_mean100</th>\n",
       "      <th>reference_price_group_expanding_mean100</th>\n",
       "      <th>matched_size_seconds_in_bucket_group_mean_ratio</th>\n",
       "      <th>ask_price_seconds_in_bucket_group_mean_ratio</th>\n",
       "      <th>bid_price_seconds_in_bucket_group_mean_ratio</th>\n",
       "      <th>ask_size_seconds_in_bucket_group_mean_ratio</th>\n",
       "      <th>bid_size_seconds_in_bucket_group_mean_ratio</th>\n",
       "      <th>wap_seconds_in_bucket_group_mean_ratio</th>\n",
       "      <th>near_price_seconds_in_bucket_group_mean_ratio</th>\n",
       "      <th>far_price_seconds_in_bucket_group_mean_ratio</th>\n",
       "      <th>reference_price_seconds_in_bucket_group_mean_ratio</th>\n",
       "      <th>matched_size_seconds_in_bucket_group_rank</th>\n",
       "      <th>ask_price_seconds_in_bucket_group_rank</th>\n",
       "      <th>bid_price_seconds_in_bucket_group_rank</th>\n",
       "      <th>ask_size_seconds_in_bucket_group_rank</th>\n",
       "      <th>bid_size_seconds_in_bucket_group_rank</th>\n",
       "      <th>wap_seconds_in_bucket_group_rank</th>\n",
       "      <th>near_price_seconds_in_bucket_group_rank</th>\n",
       "      <th>far_price_seconds_in_bucket_group_rank</th>\n",
       "      <th>reference_price_seconds_in_bucket_group_rank</th>\n",
       "    </tr>\n",
       "  </thead>\n",
       "  <tbody>\n",
       "    <tr>\n",
       "      <th>0</th>\n",
       "      <td>0</td>\n",
       "      <td>0</td>\n",
       "      <td>0</td>\n",
       "      <td>3180602.69</td>\n",
       "      <td>1</td>\n",
       "      <td>0.999812</td>\n",
       "      <td>13380276.64</td>\n",
       "      <td>1.001713</td>\n",
       "      <td>0.99966</td>\n",
       "      <td>0.999812</td>\n",
       "      <td>60651.50</td>\n",
       "      <td>1.000026</td>\n",
       "      <td>8493.03</td>\n",
       "      <td>1.0</td>\n",
       "      <td>-3.029704</td>\n",
       "      <td>0</td>\n",
       "      <td>0_0_0</td>\n",
       "      <td>0</td>\n",
       "      <td>0.1</td>\n",
       "      <td>0.0</td>\n",
       "      <td>1</td>\n",
       "      <td>0</td>\n",
       "      <td>0</td>\n",
       "      <td>69144.53</td>\n",
       "      <td>42739.16</td>\n",
       "      <td>1</td>\n",
       "      <td>0.237708</td>\n",
       "      <td>-52158.47</td>\n",
       "      <td>0.999919</td>\n",
       "      <td>7.141326</td>\n",
       "      <td>0.000214</td>\n",
       "      <td>0.754340</td>\n",
       "      <td>-0.615890</td>\n",
       "      <td>0.000161</td>\n",
       "      <td>0.000081</td>\n",
       "      <td>0.000950</td>\n",
       "      <td>-0.000076</td>\n",
       "      <td>-0.001026</td>\n",
       "      <td>0.000000</td>\n",
       "      <td>-0.000950</td>\n",
       "      <td>0.000076</td>\n",
       "      <td>0.000107</td>\n",
       "      <td>-0.000843</td>\n",
       "      <td>0.000183</td>\n",
       "      <td>0.000107</td>\n",
       "      <td>0.000094</td>\n",
       "      <td>-0.000856</td>\n",
       "      <td>0.00017</td>\n",
       "      <td>9.400884e-05</td>\n",
       "      <td>-0.000013</td>\n",
       "      <td>12.514451</td>\n",
       "      <td>1.712151e+13</td>\n",
       "      <td>0.000000</td>\n",
       "      <td>12.514451</td>\n",
       "      <td>7.882566</td>\n",
       "      <td>1.408878</td>\n",
       "      <td>4.610268</td>\n",
       "      <td>-1.927541e+12</td>\n",
       "      <td>7.882566</td>\n",
       "      <td>1.408878</td>\n",
       "      <td>9.111006</td>\n",
       "      <td>1.237706</td>\n",
       "      <td>5.039422</td>\n",
       "      <td>-1.693354e+12</td>\n",
       "      <td>9.111006</td>\n",
       "      <td>1.237706</td>\n",
       "      <td>0.138298</td>\n",
       "      <td>64.879580</td>\n",
       "      <td>0.076494</td>\n",
       "      <td>0.138298</td>\n",
       "      <td>0.004</td>\n",
       "      <td>0.004</td>\n",
       "      <td>0.0</td>\n",
       "      <td>0.0</td>\n",
       "      <td>0.0</td>\n",
       "      <td>680.648976</td>\n",
       "      <td>-107.068979</td>\n",
       "      <td>3.094966e-09</td>\n",
       "      <td>0</td>\n",
       "      <td>1.000000</td>\n",
       "      <td>0.000214</td>\n",
       "      <td>1.000170</td>\n",
       "      <td>4.157506e+06</td>\n",
       "      <td>0.000768</td>\n",
       "      <td>6.324881e+06</td>\n",
       "      <td>2.278791</td>\n",
       "      <td>1.695159</td>\n",
       "      <td>5.364051</td>\n",
       "      <td>2.775961</td>\n",
       "      <td>0.999618</td>\n",
       "      <td>13380276.64</td>\n",
       "      <td>0.394776</td>\n",
       "      <td>-0.789993</td>\n",
       "      <td>True</td>\n",
       "      <td>1.0</td>\n",
       "      <td>1.0</td>\n",
       "      <td>1.0</td>\n",
       "      <td>1.0</td>\n",
       "      <td>1.0</td>\n",
       "      <td>1.0</td>\n",
       "      <td>1.0</td>\n",
       "      <td>1.0</td>\n",
       "      <td>1.0</td>\n",
       "      <td>1.0</td>\n",
       "      <td>1.0</td>\n",
       "      <td>1.0</td>\n",
       "      <td>1.0</td>\n",
       "      <td>1.0</td>\n",
       "      <td>1.0</td>\n",
       "      <td>1.0</td>\n",
       "      <td>1.0</td>\n",
       "      <td>1.0</td>\n",
       "      <td>1.050224</td>\n",
       "      <td>1.000361</td>\n",
       "      <td>0.999812</td>\n",
       "      <td>4.255888</td>\n",
       "      <td>0.521599</td>\n",
       "      <td>1.0</td>\n",
       "      <td>1.0</td>\n",
       "      <td>1.0</td>\n",
       "      <td>1.000136</td>\n",
       "      <td>0.204188</td>\n",
       "      <td>0.931937</td>\n",
       "      <td>0.497382</td>\n",
       "      <td>0.685864</td>\n",
       "      <td>0.104712</td>\n",
       "      <td>0.005236</td>\n",
       "      <td>0.005236</td>\n",
       "      <td>0.005236</td>\n",
       "      <td>0.659686</td>\n",
       "    </tr>\n",
       "    <tr>\n",
       "      <th>1</th>\n",
       "      <td>1</td>\n",
       "      <td>0</td>\n",
       "      <td>0</td>\n",
       "      <td>166603.91</td>\n",
       "      <td>-1</td>\n",
       "      <td>0.999896</td>\n",
       "      <td>1642214.25</td>\n",
       "      <td>1.001713</td>\n",
       "      <td>0.99966</td>\n",
       "      <td>0.999896</td>\n",
       "      <td>3233.04</td>\n",
       "      <td>1.000660</td>\n",
       "      <td>20605.09</td>\n",
       "      <td>1.0</td>\n",
       "      <td>-5.519986</td>\n",
       "      <td>0</td>\n",
       "      <td>0_0_1</td>\n",
       "      <td>0</td>\n",
       "      <td>-0.1</td>\n",
       "      <td>0.0</td>\n",
       "      <td>0</td>\n",
       "      <td>1</td>\n",
       "      <td>0</td>\n",
       "      <td>23838.13</td>\n",
       "      <td>25548.50</td>\n",
       "      <td>0</td>\n",
       "      <td>0.101451</td>\n",
       "      <td>17372.05</td>\n",
       "      <td>1.000278</td>\n",
       "      <td>0.156905</td>\n",
       "      <td>0.000764</td>\n",
       "      <td>-0.728751</td>\n",
       "      <td>-0.815787</td>\n",
       "      <td>-0.000557</td>\n",
       "      <td>-0.000278</td>\n",
       "      <td>0.000908</td>\n",
       "      <td>-0.000118</td>\n",
       "      <td>-0.001026</td>\n",
       "      <td>0.000000</td>\n",
       "      <td>-0.000908</td>\n",
       "      <td>0.000118</td>\n",
       "      <td>0.000382</td>\n",
       "      <td>-0.000526</td>\n",
       "      <td>0.000500</td>\n",
       "      <td>0.000382</td>\n",
       "      <td>0.000052</td>\n",
       "      <td>-0.000856</td>\n",
       "      <td>0.00017</td>\n",
       "      <td>5.200270e-05</td>\n",
       "      <td>-0.000330</td>\n",
       "      <td>7.702060</td>\n",
       "      <td>-1.636490e+13</td>\n",
       "      <td>0.000000</td>\n",
       "      <td>7.702060</td>\n",
       "      <td>1.378101</td>\n",
       "      <td>3.238744</td>\n",
       "      <td>1.052981</td>\n",
       "      <td>-6.881500e+12</td>\n",
       "      <td>1.378101</td>\n",
       "      <td>3.238744</td>\n",
       "      <td>16.469894</td>\n",
       "      <td>0.440876</td>\n",
       "      <td>5.039422</td>\n",
       "      <td>9.367487e+11</td>\n",
       "      <td>16.469894</td>\n",
       "      <td>0.440876</td>\n",
       "      <td>6.346154</td>\n",
       "      <td>1.595256</td>\n",
       "      <td>1.941782</td>\n",
       "      <td>6.346154</td>\n",
       "      <td>0.001</td>\n",
       "      <td>0.001</td>\n",
       "      <td>0.0</td>\n",
       "      <td>0.0</td>\n",
       "      <td>0.0</td>\n",
       "      <td>127.285387</td>\n",
       "      <td>35.660702</td>\n",
       "      <td>3.204949e-08</td>\n",
       "      <td>0</td>\n",
       "      <td>1.000000</td>\n",
       "      <td>0.000764</td>\n",
       "      <td>1.000304</td>\n",
       "      <td>4.581641e+05</td>\n",
       "      <td>0.000768</td>\n",
       "      <td>7.927594e+05</td>\n",
       "      <td>1.593595</td>\n",
       "      <td>1.949990</td>\n",
       "      <td>2.167109</td>\n",
       "      <td>3.819817</td>\n",
       "      <td>0.999895</td>\n",
       "      <td>1642214.25</td>\n",
       "      <td>-1.366858</td>\n",
       "      <td>2.441783</td>\n",
       "      <td>True</td>\n",
       "      <td>1.0</td>\n",
       "      <td>1.0</td>\n",
       "      <td>1.0</td>\n",
       "      <td>1.0</td>\n",
       "      <td>1.0</td>\n",
       "      <td>1.0</td>\n",
       "      <td>1.0</td>\n",
       "      <td>1.0</td>\n",
       "      <td>1.0</td>\n",
       "      <td>1.0</td>\n",
       "      <td>1.0</td>\n",
       "      <td>1.0</td>\n",
       "      <td>1.0</td>\n",
       "      <td>1.0</td>\n",
       "      <td>1.0</td>\n",
       "      <td>1.0</td>\n",
       "      <td>1.0</td>\n",
       "      <td>1.0</td>\n",
       "      <td>8.556917</td>\n",
       "      <td>0.999727</td>\n",
       "      <td>0.999728</td>\n",
       "      <td>1.754197</td>\n",
       "      <td>9.785149</td>\n",
       "      <td>1.0</td>\n",
       "      <td>1.0</td>\n",
       "      <td>1.0</td>\n",
       "      <td>1.000052</td>\n",
       "      <td>0.874346</td>\n",
       "      <td>0.183246</td>\n",
       "      <td>0.272251</td>\n",
       "      <td>0.439791</td>\n",
       "      <td>0.827225</td>\n",
       "      <td>0.010471</td>\n",
       "      <td>0.010471</td>\n",
       "      <td>0.010471</td>\n",
       "      <td>0.554974</td>\n",
       "    </tr>\n",
       "    <tr>\n",
       "      <th>2</th>\n",
       "      <td>2</td>\n",
       "      <td>0</td>\n",
       "      <td>0</td>\n",
       "      <td>302879.87</td>\n",
       "      <td>-1</td>\n",
       "      <td>0.999561</td>\n",
       "      <td>1819368.03</td>\n",
       "      <td>1.001713</td>\n",
       "      <td>0.99966</td>\n",
       "      <td>0.999403</td>\n",
       "      <td>37956.00</td>\n",
       "      <td>1.000298</td>\n",
       "      <td>18995.00</td>\n",
       "      <td>1.0</td>\n",
       "      <td>-8.389950</td>\n",
       "      <td>0</td>\n",
       "      <td>0_0_2</td>\n",
       "      <td>0</td>\n",
       "      <td>-0.1</td>\n",
       "      <td>0.0</td>\n",
       "      <td>0</td>\n",
       "      <td>1</td>\n",
       "      <td>0</td>\n",
       "      <td>56951.00</td>\n",
       "      <td>26228.10</td>\n",
       "      <td>1</td>\n",
       "      <td>0.166475</td>\n",
       "      <td>-18961.00</td>\n",
       "      <td>0.999850</td>\n",
       "      <td>1.998210</td>\n",
       "      <td>0.000895</td>\n",
       "      <td>0.332935</td>\n",
       "      <td>-0.714567</td>\n",
       "      <td>0.000298</td>\n",
       "      <td>0.000149</td>\n",
       "      <td>0.001075</td>\n",
       "      <td>0.000050</td>\n",
       "      <td>-0.001026</td>\n",
       "      <td>-0.000079</td>\n",
       "      <td>-0.001154</td>\n",
       "      <td>-0.000129</td>\n",
       "      <td>0.000369</td>\n",
       "      <td>-0.000707</td>\n",
       "      <td>0.000319</td>\n",
       "      <td>0.000448</td>\n",
       "      <td>0.000220</td>\n",
       "      <td>-0.000856</td>\n",
       "      <td>0.00017</td>\n",
       "      <td>2.985891e-04</td>\n",
       "      <td>-0.000149</td>\n",
       "      <td>20.712788</td>\n",
       "      <td>1.361942e+01</td>\n",
       "      <td>0.627254</td>\n",
       "      <td>7.984109</td>\n",
       "      <td>1.919768</td>\n",
       "      <td>6.436477</td>\n",
       "      <td>2.218032</td>\n",
       "      <td>4.664557e+00</td>\n",
       "      <td>1.580859</td>\n",
       "      <td>2.481054</td>\n",
       "      <td>3.901752</td>\n",
       "      <td>3.429598</td>\n",
       "      <td>5.039422</td>\n",
       "      <td>2.778481e+00</td>\n",
       "      <td>2.869127</td>\n",
       "      <td>1.321999</td>\n",
       "      <td>0.678816</td>\n",
       "      <td>4.747883</td>\n",
       "      <td>0.876744</td>\n",
       "      <td>0.499162</td>\n",
       "      <td>0.002</td>\n",
       "      <td>0.002</td>\n",
       "      <td>0.0</td>\n",
       "      <td>0.0</td>\n",
       "      <td>0.0</td>\n",
       "      <td>271.077484</td>\n",
       "      <td>-38.922440</td>\n",
       "      <td>1.571526e-08</td>\n",
       "      <td>0</td>\n",
       "      <td>0.999999</td>\n",
       "      <td>0.000895</td>\n",
       "      <td>1.000106</td>\n",
       "      <td>5.447997e+05</td>\n",
       "      <td>0.000851</td>\n",
       "      <td>8.595368e+05</td>\n",
       "      <td>1.732924</td>\n",
       "      <td>1.869559</td>\n",
       "      <td>3.154185</td>\n",
       "      <td>3.507308</td>\n",
       "      <td>0.999898</td>\n",
       "      <td>1819368.03</td>\n",
       "      <td>0.111690</td>\n",
       "      <td>-0.407338</td>\n",
       "      <td>True</td>\n",
       "      <td>1.0</td>\n",
       "      <td>1.0</td>\n",
       "      <td>1.0</td>\n",
       "      <td>1.0</td>\n",
       "      <td>1.0</td>\n",
       "      <td>1.0</td>\n",
       "      <td>1.0</td>\n",
       "      <td>1.0</td>\n",
       "      <td>1.0</td>\n",
       "      <td>1.0</td>\n",
       "      <td>1.0</td>\n",
       "      <td>1.0</td>\n",
       "      <td>1.0</td>\n",
       "      <td>1.0</td>\n",
       "      <td>1.0</td>\n",
       "      <td>1.0</td>\n",
       "      <td>1.0</td>\n",
       "      <td>1.0</td>\n",
       "      <td>7.723721</td>\n",
       "      <td>1.000089</td>\n",
       "      <td>1.000222</td>\n",
       "      <td>1.902889</td>\n",
       "      <td>0.833486</td>\n",
       "      <td>1.0</td>\n",
       "      <td>1.0</td>\n",
       "      <td>1.0</td>\n",
       "      <td>1.000387</td>\n",
       "      <td>0.821990</td>\n",
       "      <td>0.434555</td>\n",
       "      <td>0.795812</td>\n",
       "      <td>0.455497</td>\n",
       "      <td>0.225131</td>\n",
       "      <td>0.015707</td>\n",
       "      <td>0.015707</td>\n",
       "      <td>0.015707</td>\n",
       "      <td>0.811518</td>\n",
       "    </tr>\n",
       "    <tr>\n",
       "      <th>3</th>\n",
       "      <td>3</td>\n",
       "      <td>0</td>\n",
       "      <td>0</td>\n",
       "      <td>11917682.27</td>\n",
       "      <td>-1</td>\n",
       "      <td>1.000171</td>\n",
       "      <td>18389745.62</td>\n",
       "      <td>1.001713</td>\n",
       "      <td>0.99966</td>\n",
       "      <td>0.999999</td>\n",
       "      <td>2324.90</td>\n",
       "      <td>1.000214</td>\n",
       "      <td>479032.40</td>\n",
       "      <td>1.0</td>\n",
       "      <td>-4.010200</td>\n",
       "      <td>0</td>\n",
       "      <td>0_0_3</td>\n",
       "      <td>0</td>\n",
       "      <td>-0.1</td>\n",
       "      <td>0.0</td>\n",
       "      <td>0</td>\n",
       "      <td>1</td>\n",
       "      <td>0</td>\n",
       "      <td>481357.30</td>\n",
       "      <td>41667.00</td>\n",
       "      <td>1</td>\n",
       "      <td>0.648061</td>\n",
       "      <td>476707.50</td>\n",
       "      <td>1.000107</td>\n",
       "      <td>0.004853</td>\n",
       "      <td>0.000215</td>\n",
       "      <td>-0.990340</td>\n",
       "      <td>-0.213547</td>\n",
       "      <td>-0.000213</td>\n",
       "      <td>-0.000106</td>\n",
       "      <td>0.000770</td>\n",
       "      <td>-0.000255</td>\n",
       "      <td>-0.001026</td>\n",
       "      <td>-0.000086</td>\n",
       "      <td>-0.000856</td>\n",
       "      <td>0.000169</td>\n",
       "      <td>0.000021</td>\n",
       "      <td>-0.000749</td>\n",
       "      <td>0.000277</td>\n",
       "      <td>0.000107</td>\n",
       "      <td>-0.000085</td>\n",
       "      <td>-0.000856</td>\n",
       "      <td>0.00017</td>\n",
       "      <td>5.000003e-07</td>\n",
       "      <td>-0.000107</td>\n",
       "      <td>3.017983</td>\n",
       "      <td>8.964355e+00</td>\n",
       "      <td>0.507533</td>\n",
       "      <td>5.057243</td>\n",
       "      <td>34.857420</td>\n",
       "      <td>0.084166</td>\n",
       "      <td>2.706058</td>\n",
       "      <td>2.500000e-01</td>\n",
       "      <td>6.971484</td>\n",
       "      <td>0.634417</td>\n",
       "      <td>9.016778</td>\n",
       "      <td>0.503098</td>\n",
       "      <td>5.039422</td>\n",
       "      <td>1.710000e+02</td>\n",
       "      <td>1712.869100</td>\n",
       "      <td>0.002951</td>\n",
       "      <td>0.251462</td>\n",
       "      <td>7.004061</td>\n",
       "      <td>0.629608</td>\n",
       "      <td>214.000000</td>\n",
       "      <td>0.006</td>\n",
       "      <td>0.006</td>\n",
       "      <td>0.0</td>\n",
       "      <td>0.0</td>\n",
       "      <td>0.0</td>\n",
       "      <td>2562.301688</td>\n",
       "      <td>978.567534</td>\n",
       "      <td>4.466537e-10</td>\n",
       "      <td>0</td>\n",
       "      <td>1.000000</td>\n",
       "      <td>0.000215</td>\n",
       "      <td>1.000293</td>\n",
       "      <td>7.697196e+06</td>\n",
       "      <td>0.000722</td>\n",
       "      <td>9.008441e+06</td>\n",
       "      <td>2.034344</td>\n",
       "      <td>0.424923</td>\n",
       "      <td>4.646714</td>\n",
       "      <td>-3.574718</td>\n",
       "      <td>0.999510</td>\n",
       "      <td>18389745.62</td>\n",
       "      <td>0.816181</td>\n",
       "      <td>-0.059498</td>\n",
       "      <td>True</td>\n",
       "      <td>1.0</td>\n",
       "      <td>1.0</td>\n",
       "      <td>1.0</td>\n",
       "      <td>1.0</td>\n",
       "      <td>1.0</td>\n",
       "      <td>1.0</td>\n",
       "      <td>1.0</td>\n",
       "      <td>1.0</td>\n",
       "      <td>1.0</td>\n",
       "      <td>1.0</td>\n",
       "      <td>1.0</td>\n",
       "      <td>1.0</td>\n",
       "      <td>1.0</td>\n",
       "      <td>1.0</td>\n",
       "      <td>1.0</td>\n",
       "      <td>1.0</td>\n",
       "      <td>1.0</td>\n",
       "      <td>1.0</td>\n",
       "      <td>0.764137</td>\n",
       "      <td>1.000173</td>\n",
       "      <td>0.999625</td>\n",
       "      <td>0.075455</td>\n",
       "      <td>13.607370</td>\n",
       "      <td>1.0</td>\n",
       "      <td>1.0</td>\n",
       "      <td>1.0</td>\n",
       "      <td>0.999777</td>\n",
       "      <td>0.151832</td>\n",
       "      <td>0.560209</td>\n",
       "      <td>0.005236</td>\n",
       "      <td>0.010471</td>\n",
       "      <td>0.874346</td>\n",
       "      <td>0.020942</td>\n",
       "      <td>0.020942</td>\n",
       "      <td>0.020942</td>\n",
       "      <td>0.287958</td>\n",
       "    </tr>\n",
       "    <tr>\n",
       "      <th>4</th>\n",
       "      <td>4</td>\n",
       "      <td>0</td>\n",
       "      <td>0</td>\n",
       "      <td>447549.96</td>\n",
       "      <td>-1</td>\n",
       "      <td>0.999532</td>\n",
       "      <td>17860614.95</td>\n",
       "      <td>1.001713</td>\n",
       "      <td>0.99966</td>\n",
       "      <td>0.999394</td>\n",
       "      <td>16485.54</td>\n",
       "      <td>1.000016</td>\n",
       "      <td>434.10</td>\n",
       "      <td>1.0</td>\n",
       "      <td>-7.349849</td>\n",
       "      <td>0</td>\n",
       "      <td>0_0_4</td>\n",
       "      <td>0</td>\n",
       "      <td>-0.1</td>\n",
       "      <td>0.0</td>\n",
       "      <td>0</td>\n",
       "      <td>1</td>\n",
       "      <td>0</td>\n",
       "      <td>16919.64</td>\n",
       "      <td>34014.58</td>\n",
       "      <td>0</td>\n",
       "      <td>0.025058</td>\n",
       "      <td>-16051.44</td>\n",
       "      <td>0.999705</td>\n",
       "      <td>37.976365</td>\n",
       "      <td>0.000622</td>\n",
       "      <td>0.948687</td>\n",
       "      <td>-0.951109</td>\n",
       "      <td>0.000590</td>\n",
       "      <td>0.000295</td>\n",
       "      <td>0.001090</td>\n",
       "      <td>0.000064</td>\n",
       "      <td>-0.001026</td>\n",
       "      <td>-0.000069</td>\n",
       "      <td>-0.001159</td>\n",
       "      <td>-0.000133</td>\n",
       "      <td>0.000242</td>\n",
       "      <td>-0.000848</td>\n",
       "      <td>0.000178</td>\n",
       "      <td>0.000311</td>\n",
       "      <td>0.000234</td>\n",
       "      <td>-0.000856</td>\n",
       "      <td>0.00017</td>\n",
       "      <td>3.030918e-04</td>\n",
       "      <td>-0.000008</td>\n",
       "      <td>16.023933</td>\n",
       "      <td>1.580340e+01</td>\n",
       "      <td>0.928305</td>\n",
       "      <td>7.714078</td>\n",
       "      <td>3.505928</td>\n",
       "      <td>2.778119</td>\n",
       "      <td>4.767907</td>\n",
       "      <td>3.507246e+00</td>\n",
       "      <td>2.728085</td>\n",
       "      <td>1.337414</td>\n",
       "      <td>3.659977</td>\n",
       "      <td>2.653223</td>\n",
       "      <td>5.039422</td>\n",
       "      <td>3.391304e+00</td>\n",
       "      <td>2.826517</td>\n",
       "      <td>1.277287</td>\n",
       "      <td>0.034188</td>\n",
       "      <td>106.054320</td>\n",
       "      <td>0.047074</td>\n",
       "      <td>0.026403</td>\n",
       "      <td>0.004</td>\n",
       "      <td>0.004</td>\n",
       "      <td>0.0</td>\n",
       "      <td>0.0</td>\n",
       "      <td>0.0</td>\n",
       "      <td>278.376075</td>\n",
       "      <td>-32.949803</td>\n",
       "      <td>3.676201e-08</td>\n",
       "      <td>0</td>\n",
       "      <td>1.000000</td>\n",
       "      <td>0.000622</td>\n",
       "      <td>1.000052</td>\n",
       "      <td>4.581271e+06</td>\n",
       "      <td>0.000851</td>\n",
       "      <td>8.855318e+06</td>\n",
       "      <td>1.992340</td>\n",
       "      <td>1.996737</td>\n",
       "      <td>4.283578</td>\n",
       "      <td>3.988887</td>\n",
       "      <td>0.999228</td>\n",
       "      <td>17860614.95</td>\n",
       "      <td>-0.070347</td>\n",
       "      <td>-1.111443</td>\n",
       "      <td>True</td>\n",
       "      <td>1.0</td>\n",
       "      <td>1.0</td>\n",
       "      <td>1.0</td>\n",
       "      <td>1.0</td>\n",
       "      <td>1.0</td>\n",
       "      <td>1.0</td>\n",
       "      <td>1.0</td>\n",
       "      <td>1.0</td>\n",
       "      <td>1.0</td>\n",
       "      <td>1.0</td>\n",
       "      <td>1.0</td>\n",
       "      <td>1.0</td>\n",
       "      <td>1.0</td>\n",
       "      <td>1.0</td>\n",
       "      <td>1.0</td>\n",
       "      <td>1.0</td>\n",
       "      <td>1.0</td>\n",
       "      <td>1.0</td>\n",
       "      <td>0.786775</td>\n",
       "      <td>1.000371</td>\n",
       "      <td>1.000230</td>\n",
       "      <td>83.265114</td>\n",
       "      <td>1.919002</td>\n",
       "      <td>1.0</td>\n",
       "      <td>1.0</td>\n",
       "      <td>1.0</td>\n",
       "      <td>1.000416</td>\n",
       "      <td>0.162304</td>\n",
       "      <td>0.958115</td>\n",
       "      <td>0.806283</td>\n",
       "      <td>0.958115</td>\n",
       "      <td>0.445026</td>\n",
       "      <td>0.026178</td>\n",
       "      <td>0.026178</td>\n",
       "      <td>0.026178</td>\n",
       "      <td>0.842932</td>\n",
       "    </tr>\n",
       "  </tbody>\n",
       "</table>\n",
       "</div>"
      ],
      "text/plain": [
       "   stock_id  date_id  seconds_in_bucket  imbalance_size  \\\n",
       "0         0        0                  0      3180602.69   \n",
       "1         1        0                  0       166603.91   \n",
       "2         2        0                  0       302879.87   \n",
       "3         3        0                  0     11917682.27   \n",
       "4         4        0                  0       447549.96   \n",
       "\n",
       "   imbalance_buy_sell_flag  reference_price  matched_size  far_price  \\\n",
       "0                        1         0.999812   13380276.64   1.001713   \n",
       "1                       -1         0.999896    1642214.25   1.001713   \n",
       "2                       -1         0.999561    1819368.03   1.001713   \n",
       "3                       -1         1.000171   18389745.62   1.001713   \n",
       "4                       -1         0.999532   17860614.95   1.001713   \n",
       "\n",
       "   near_price  bid_price  bid_size  ask_price   ask_size  wap    target  \\\n",
       "0     0.99966   0.999812  60651.50   1.000026    8493.03  1.0 -3.029704   \n",
       "1     0.99966   0.999896   3233.04   1.000660   20605.09  1.0 -5.519986   \n",
       "2     0.99966   0.999403  37956.00   1.000298   18995.00  1.0 -8.389950   \n",
       "3     0.99966   0.999999   2324.90   1.000214  479032.40  1.0 -4.010200   \n",
       "4     0.99966   0.999394  16485.54   1.000016     434.10  1.0 -7.349849   \n",
       "\n",
       "   time_id row_id  baseline_prediction  simple_prediction  \\\n",
       "0        0  0_0_0                    0                0.1   \n",
       "1        0  0_0_1                    0               -0.1   \n",
       "2        0  0_0_2                    0               -0.1   \n",
       "3        0  0_0_3                    0               -0.1   \n",
       "4        0  0_0_4                    0               -0.1   \n",
       "\n",
       "   seconds_in_bucket_group  imbalance_buy_flag  imbalance_sell_flag  \\\n",
       "0                      0.0                   1                    0   \n",
       "1                      0.0                   0                    1   \n",
       "2                      0.0                   0                    1   \n",
       "3                      0.0                   0                    1   \n",
       "4                      0.0                   0                    1   \n",
       "\n",
       "   no_imbalance  bid_plus_ask_sizes  median_vol  high_volume  imbalance_ratio  \\\n",
       "0             0            69144.53    42739.16            1         0.237708   \n",
       "1             0            23838.13    25548.50            0         0.101451   \n",
       "2             0            56951.00    26228.10            1         0.166475   \n",
       "3             0           481357.30    41667.00            1         0.648061   \n",
       "4             0            16919.64    34014.58            0         0.025058   \n",
       "\n",
       "   bid_ask_volume_diff  mid_price  size_imbalance  price_spread  \\\n",
       "0            -52158.47   0.999919        7.141326      0.000214   \n",
       "1             17372.05   1.000278        0.156905      0.000764   \n",
       "2            -18961.00   0.999850        1.998210      0.000895   \n",
       "3            476707.50   1.000107        0.004853      0.000215   \n",
       "4            -16051.44   0.999705       37.976365      0.000622   \n",
       "\n",
       "   liquidity_imbalance  matched_imbalance  market_urgency  market_urgency_v2  \\\n",
       "0             0.754340          -0.615890        0.000161           0.000081   \n",
       "1            -0.728751          -0.815787       -0.000557          -0.000278   \n",
       "2             0.332935          -0.714567        0.000298           0.000149   \n",
       "3            -0.990340          -0.213547       -0.000213          -0.000106   \n",
       "4             0.948687          -0.951109        0.000590           0.000295   \n",
       "\n",
       "   far_price_reference_price_imb  near_price_reference_price_imb  \\\n",
       "0                       0.000950                       -0.000076   \n",
       "1                       0.000908                       -0.000118   \n",
       "2                       0.001075                        0.000050   \n",
       "3                       0.000770                       -0.000255   \n",
       "4                       0.001090                        0.000064   \n",
       "\n",
       "   near_price_far_price_imb  bid_price_reference_price_imb  \\\n",
       "0                 -0.001026                       0.000000   \n",
       "1                 -0.001026                       0.000000   \n",
       "2                 -0.001026                      -0.000079   \n",
       "3                 -0.001026                      -0.000086   \n",
       "4                 -0.001026                      -0.000069   \n",
       "\n",
       "   bid_price_far_price_imb  bid_price_near_price_imb  \\\n",
       "0                -0.000950                  0.000076   \n",
       "1                -0.000908                  0.000118   \n",
       "2                -0.001154                 -0.000129   \n",
       "3                -0.000856                  0.000169   \n",
       "4                -0.001159                 -0.000133   \n",
       "\n",
       "   ask_price_reference_price_imb  ask_price_far_price_imb  \\\n",
       "0                       0.000107                -0.000843   \n",
       "1                       0.000382                -0.000526   \n",
       "2                       0.000369                -0.000707   \n",
       "3                       0.000021                -0.000749   \n",
       "4                       0.000242                -0.000848   \n",
       "\n",
       "   ask_price_near_price_imb  ask_price_bid_price_imb  wap_reference_price_imb  \\\n",
       "0                  0.000183                 0.000107                 0.000094   \n",
       "1                  0.000500                 0.000382                 0.000052   \n",
       "2                  0.000319                 0.000448                 0.000220   \n",
       "3                  0.000277                 0.000107                -0.000085   \n",
       "4                  0.000178                 0.000311                 0.000234   \n",
       "\n",
       "   wap_far_price_imb  wap_near_price_imb  wap_bid_price_imb  \\\n",
       "0          -0.000856             0.00017       9.400884e-05   \n",
       "1          -0.000856             0.00017       5.200270e-05   \n",
       "2          -0.000856             0.00017       2.985891e-04   \n",
       "3          -0.000856             0.00017       5.000003e-07   \n",
       "4          -0.000856             0.00017       3.030918e-04   \n",
       "\n",
       "   wap_ask_price_imb  near_price_far_price_reference_price_imb2  \\\n",
       "0          -0.000013                                  12.514451   \n",
       "1          -0.000330                                   7.702060   \n",
       "2          -0.000149                                  20.712788   \n",
       "3          -0.000107                                   3.017983   \n",
       "4          -0.000008                                  16.023933   \n",
       "\n",
       "   bid_price_far_price_reference_price_imb2  \\\n",
       "0                              1.712151e+13   \n",
       "1                             -1.636490e+13   \n",
       "2                              1.361942e+01   \n",
       "3                              8.964355e+00   \n",
       "4                              1.580340e+01   \n",
       "\n",
       "   bid_price_near_price_reference_price_imb2  \\\n",
       "0                                   0.000000   \n",
       "1                                   0.000000   \n",
       "2                                   0.627254   \n",
       "3                                   0.507533   \n",
       "4                                   0.928305   \n",
       "\n",
       "   bid_price_near_price_far_price_imb2  \\\n",
       "0                            12.514451   \n",
       "1                             7.702060   \n",
       "2                             7.984109   \n",
       "3                             5.057243   \n",
       "4                             7.714078   \n",
       "\n",
       "   ask_price_far_price_reference_price_imb2  \\\n",
       "0                                  7.882566   \n",
       "1                                  1.378101   \n",
       "2                                  1.919768   \n",
       "3                                 34.857420   \n",
       "4                                  3.505928   \n",
       "\n",
       "   ask_price_near_price_reference_price_imb2  \\\n",
       "0                                   1.408878   \n",
       "1                                   3.238744   \n",
       "2                                   6.436477   \n",
       "3                                   0.084166   \n",
       "4                                   2.778119   \n",
       "\n",
       "   ask_price_near_price_far_price_imb2  \\\n",
       "0                             4.610268   \n",
       "1                             1.052981   \n",
       "2                             2.218032   \n",
       "3                             2.706058   \n",
       "4                             4.767907   \n",
       "\n",
       "   ask_price_bid_price_reference_price_imb2  \\\n",
       "0                             -1.927541e+12   \n",
       "1                             -6.881500e+12   \n",
       "2                              4.664557e+00   \n",
       "3                              2.500000e-01   \n",
       "4                              3.507246e+00   \n",
       "\n",
       "   ask_price_bid_price_far_price_imb2  ask_price_bid_price_near_price_imb2  \\\n",
       "0                            7.882566                             1.408878   \n",
       "1                            1.378101                             3.238744   \n",
       "2                            1.580859                             2.481054   \n",
       "3                            6.971484                             0.634417   \n",
       "4                            2.728085                             1.337414   \n",
       "\n",
       "   wap_far_price_reference_price_imb2  wap_near_price_reference_price_imb2  \\\n",
       "0                            9.111006                             1.237706   \n",
       "1                           16.469894                             0.440876   \n",
       "2                            3.901752                             3.429598   \n",
       "3                            9.016778                             0.503098   \n",
       "4                            3.659977                             2.653223   \n",
       "\n",
       "   wap_near_price_far_price_imb2  wap_bid_price_reference_price_imb2  \\\n",
       "0                       5.039422                       -1.693354e+12   \n",
       "1                       5.039422                        9.367487e+11   \n",
       "2                       5.039422                        2.778481e+00   \n",
       "3                       5.039422                        1.710000e+02   \n",
       "4                       5.039422                        3.391304e+00   \n",
       "\n",
       "   wap_bid_price_far_price_imb2  wap_bid_price_near_price_imb2  \\\n",
       "0                      9.111006                       1.237706   \n",
       "1                     16.469894                       0.440876   \n",
       "2                      2.869127                       1.321999   \n",
       "3                   1712.869100                       0.002951   \n",
       "4                      2.826517                       1.277287   \n",
       "\n",
       "   wap_ask_price_reference_price_imb2  wap_ask_price_far_price_imb2  \\\n",
       "0                            0.138298                     64.879580   \n",
       "1                            6.346154                      1.595256   \n",
       "2                            0.678816                      4.747883   \n",
       "3                            0.251462                      7.004061   \n",
       "4                            0.034188                    106.054320   \n",
       "\n",
       "   wap_ask_price_near_price_imb2  wap_ask_price_bid_price_imb2  stock_weights  \\\n",
       "0                       0.076494                      0.138298          0.004   \n",
       "1                       1.941782                      6.346154          0.001   \n",
       "2                       0.876744                      0.499162          0.002   \n",
       "3                       0.629608                    214.000000          0.006   \n",
       "4                       0.047074                      0.026403          0.004   \n",
       "\n",
       "   weighted_wap  wap_momentum  imbalance_momentum  spread_intensity  \\\n",
       "0         0.004           0.0                 0.0               0.0   \n",
       "1         0.001           0.0                 0.0               0.0   \n",
       "2         0.002           0.0                 0.0               0.0   \n",
       "3         0.006           0.0                 0.0               0.0   \n",
       "4         0.004           0.0                 0.0               0.0   \n",
       "\n",
       "   price_pressure  depth_pressure  spread_depth_ratio  mid_price_movement  \\\n",
       "0      680.648976     -107.068979        3.094966e-09                   0   \n",
       "1      127.285387       35.660702        3.204949e-08                   0   \n",
       "2      271.077484      -38.922440        1.571526e-08                   0   \n",
       "3     2562.301688      978.567534        4.466537e-10                   0   \n",
       "4      278.376075      -32.949803        3.676201e-08                   0   \n",
       "\n",
       "   micro_price  relative_spread  all_prices_mean  all_sizes_mean  \\\n",
       "0     1.000000         0.000214         1.000170    4.157506e+06   \n",
       "1     1.000000         0.000764         1.000304    4.581641e+05   \n",
       "2     0.999999         0.000895         1.000106    5.447997e+05   \n",
       "3     1.000000         0.000215         1.000293    7.697196e+06   \n",
       "4     1.000000         0.000622         1.000052    4.581271e+06   \n",
       "\n",
       "   all_prices_std  all_sizes_std  all_prices_skew  all_sizes_skew  \\\n",
       "0        0.000768   6.324881e+06         2.278791        1.695159   \n",
       "1        0.000768   7.927594e+05         1.593595        1.949990   \n",
       "2        0.000851   8.595368e+05         1.732924        1.869559   \n",
       "3        0.000722   9.008441e+06         2.034344        0.424923   \n",
       "4        0.000851   8.855318e+06         1.992340        1.996737   \n",
       "\n",
       "   all_prices_kurt  all_sizes_kurt      vwap  rolling_mean_matched_size  \\\n",
       "0         5.364051        2.775961  0.999618                13380276.64   \n",
       "1         2.167109        3.819817  0.999895                 1642214.25   \n",
       "2         3.154185        3.507308  0.999898                 1819368.03   \n",
       "3         4.646714       -3.574718  0.999510                18389745.62   \n",
       "4         4.283578        3.988887  0.999228                17860614.95   \n",
       "\n",
       "   wap_skewness  wap_kurtosis  is_high_volume  matched_size_group_first_ratio  \\\n",
       "0      0.394776     -0.789993            True                             1.0   \n",
       "1     -1.366858      2.441783            True                             1.0   \n",
       "2      0.111690     -0.407338            True                             1.0   \n",
       "3      0.816181     -0.059498            True                             1.0   \n",
       "4     -0.070347     -1.111443            True                             1.0   \n",
       "\n",
       "   ask_price_group_first_ratio  bid_price_group_first_ratio  \\\n",
       "0                          1.0                          1.0   \n",
       "1                          1.0                          1.0   \n",
       "2                          1.0                          1.0   \n",
       "3                          1.0                          1.0   \n",
       "4                          1.0                          1.0   \n",
       "\n",
       "   ask_size_group_first_ratio  bid_size_group_first_ratio  \\\n",
       "0                         1.0                         1.0   \n",
       "1                         1.0                         1.0   \n",
       "2                         1.0                         1.0   \n",
       "3                         1.0                         1.0   \n",
       "4                         1.0                         1.0   \n",
       "\n",
       "   wap_group_first_ratio  near_price_group_first_ratio  \\\n",
       "0                    1.0                           1.0   \n",
       "1                    1.0                           1.0   \n",
       "2                    1.0                           1.0   \n",
       "3                    1.0                           1.0   \n",
       "4                    1.0                           1.0   \n",
       "\n",
       "   far_price_group_first_ratio  reference_price_group_first_ratio  \\\n",
       "0                          1.0                                1.0   \n",
       "1                          1.0                                1.0   \n",
       "2                          1.0                                1.0   \n",
       "3                          1.0                                1.0   \n",
       "4                          1.0                                1.0   \n",
       "\n",
       "   matched_size_group_expanding_mean100  ask_price_group_expanding_mean100  \\\n",
       "0                                   1.0                                1.0   \n",
       "1                                   1.0                                1.0   \n",
       "2                                   1.0                                1.0   \n",
       "3                                   1.0                                1.0   \n",
       "4                                   1.0                                1.0   \n",
       "\n",
       "   bid_price_group_expanding_mean100  ask_size_group_expanding_mean100  \\\n",
       "0                                1.0                               1.0   \n",
       "1                                1.0                               1.0   \n",
       "2                                1.0                               1.0   \n",
       "3                                1.0                               1.0   \n",
       "4                                1.0                               1.0   \n",
       "\n",
       "   bid_size_group_expanding_mean100  wap_group_expanding_mean100  \\\n",
       "0                               1.0                          1.0   \n",
       "1                               1.0                          1.0   \n",
       "2                               1.0                          1.0   \n",
       "3                               1.0                          1.0   \n",
       "4                               1.0                          1.0   \n",
       "\n",
       "   near_price_group_expanding_mean100  far_price_group_expanding_mean100  \\\n",
       "0                                 1.0                                1.0   \n",
       "1                                 1.0                                1.0   \n",
       "2                                 1.0                                1.0   \n",
       "3                                 1.0                                1.0   \n",
       "4                                 1.0                                1.0   \n",
       "\n",
       "   reference_price_group_expanding_mean100  \\\n",
       "0                                      1.0   \n",
       "1                                      1.0   \n",
       "2                                      1.0   \n",
       "3                                      1.0   \n",
       "4                                      1.0   \n",
       "\n",
       "   matched_size_seconds_in_bucket_group_mean_ratio  \\\n",
       "0                                         1.050224   \n",
       "1                                         8.556917   \n",
       "2                                         7.723721   \n",
       "3                                         0.764137   \n",
       "4                                         0.786775   \n",
       "\n",
       "   ask_price_seconds_in_bucket_group_mean_ratio  \\\n",
       "0                                      1.000361   \n",
       "1                                      0.999727   \n",
       "2                                      1.000089   \n",
       "3                                      1.000173   \n",
       "4                                      1.000371   \n",
       "\n",
       "   bid_price_seconds_in_bucket_group_mean_ratio  \\\n",
       "0                                      0.999812   \n",
       "1                                      0.999728   \n",
       "2                                      1.000222   \n",
       "3                                      0.999625   \n",
       "4                                      1.000230   \n",
       "\n",
       "   ask_size_seconds_in_bucket_group_mean_ratio  \\\n",
       "0                                     4.255888   \n",
       "1                                     1.754197   \n",
       "2                                     1.902889   \n",
       "3                                     0.075455   \n",
       "4                                    83.265114   \n",
       "\n",
       "   bid_size_seconds_in_bucket_group_mean_ratio  \\\n",
       "0                                     0.521599   \n",
       "1                                     9.785149   \n",
       "2                                     0.833486   \n",
       "3                                    13.607370   \n",
       "4                                     1.919002   \n",
       "\n",
       "   wap_seconds_in_bucket_group_mean_ratio  \\\n",
       "0                                     1.0   \n",
       "1                                     1.0   \n",
       "2                                     1.0   \n",
       "3                                     1.0   \n",
       "4                                     1.0   \n",
       "\n",
       "   near_price_seconds_in_bucket_group_mean_ratio  \\\n",
       "0                                            1.0   \n",
       "1                                            1.0   \n",
       "2                                            1.0   \n",
       "3                                            1.0   \n",
       "4                                            1.0   \n",
       "\n",
       "   far_price_seconds_in_bucket_group_mean_ratio  \\\n",
       "0                                           1.0   \n",
       "1                                           1.0   \n",
       "2                                           1.0   \n",
       "3                                           1.0   \n",
       "4                                           1.0   \n",
       "\n",
       "   reference_price_seconds_in_bucket_group_mean_ratio  \\\n",
       "0                                           1.000136    \n",
       "1                                           1.000052    \n",
       "2                                           1.000387    \n",
       "3                                           0.999777    \n",
       "4                                           1.000416    \n",
       "\n",
       "   matched_size_seconds_in_bucket_group_rank  \\\n",
       "0                                   0.204188   \n",
       "1                                   0.874346   \n",
       "2                                   0.821990   \n",
       "3                                   0.151832   \n",
       "4                                   0.162304   \n",
       "\n",
       "   ask_price_seconds_in_bucket_group_rank  \\\n",
       "0                                0.931937   \n",
       "1                                0.183246   \n",
       "2                                0.434555   \n",
       "3                                0.560209   \n",
       "4                                0.958115   \n",
       "\n",
       "   bid_price_seconds_in_bucket_group_rank  \\\n",
       "0                                0.497382   \n",
       "1                                0.272251   \n",
       "2                                0.795812   \n",
       "3                                0.005236   \n",
       "4                                0.806283   \n",
       "\n",
       "   ask_size_seconds_in_bucket_group_rank  \\\n",
       "0                               0.685864   \n",
       "1                               0.439791   \n",
       "2                               0.455497   \n",
       "3                               0.010471   \n",
       "4                               0.958115   \n",
       "\n",
       "   bid_size_seconds_in_bucket_group_rank  wap_seconds_in_bucket_group_rank  \\\n",
       "0                               0.104712                          0.005236   \n",
       "1                               0.827225                          0.010471   \n",
       "2                               0.225131                          0.015707   \n",
       "3                               0.874346                          0.020942   \n",
       "4                               0.445026                          0.026178   \n",
       "\n",
       "   near_price_seconds_in_bucket_group_rank  \\\n",
       "0                                 0.005236   \n",
       "1                                 0.010471   \n",
       "2                                 0.015707   \n",
       "3                                 0.020942   \n",
       "4                                 0.026178   \n",
       "\n",
       "   far_price_seconds_in_bucket_group_rank  \\\n",
       "0                                0.005236   \n",
       "1                                0.010471   \n",
       "2                                0.015707   \n",
       "3                                0.020942   \n",
       "4                                0.026178   \n",
       "\n",
       "   reference_price_seconds_in_bucket_group_rank  \n",
       "0                                      0.659686  \n",
       "1                                      0.554974  \n",
       "2                                      0.811518  \n",
       "3                                      0.287958  \n",
       "4                                      0.842932  "
      ]
     },
     "metadata": {},
     "output_type": "display_data"
    },
    {
     "data": {
      "text/plain": [
       "(1309440, 130)"
      ]
     },
     "metadata": {},
     "output_type": "display_data"
    },
    {
     "data": {
      "text/plain": [
       "0   -3.029704\n",
       "1   -5.519986\n",
       "2   -8.389950\n",
       "3   -4.010200\n",
       "4   -7.349849\n",
       "Name: target, dtype: float64"
      ]
     },
     "metadata": {},
     "output_type": "display_data"
    }
   ],
   "source": [
    "def load_df_from_zip(zip_filename, csv_filename):\n",
    "    try:\n",
    "        with zipfile.ZipFile(zip_filename, 'r') as zf:\n",
    "            with zf.open(csv_filename) as csvfile:\n",
    "                return pd.read_csv(csvfile)\n",
    "    except Exception as e:\n",
    "        print(f\"Error loading {csv_filename} from {zip_filename}: {e}\")\n",
    "        return None\n",
    "\n",
    "# Load part 1 (other parts can be similarly loaded and concatenated)\n",
    "df_part_1 = load_df_from_zip(\"data_features_part_1.zip\", \"data_features_part_1.csv\")\n",
    "# Uncomment the following if additional parts are available\n",
    "# df_part_2 = load_df_from_zip(\"data_features_part_2.zip\", \"data_features_part_2.csv\")\n",
    "# df_part_3 = load_df_from_zip(\"data_features_part_3.zip\", \"data_features_part_3.csv\")\n",
    "# df_part_4 = load_df_from_zip(\"data_features_part_4.zip\", \"data_features_part_4.csv\")\n",
    "\n",
    "# Concatenate all parts into a single DataFrame\n",
    "# df = pd.concat([df_part_1, df_part_2, df_part_3, df_part_4], ignore_index=True)\n",
    "df = df_part_1\n",
    "\n",
    "display(df.head(), df.shape, df['target'].head())\n"
   ]
  },
  {
   "cell_type": "code",
   "execution_count": 3,
   "metadata": {},
   "outputs": [],
   "source": [
    "# ## How to read the training data now\n",
    "# file_path = \"optiver_training_data/train_part_1.csv.zip\"\n",
    "# df_1 = pd.read_csv(file_path, compression='zip')\n",
    "\n",
    "# file_path = \"optiver_training_data/train_part_2.csv.zip\"\n",
    "# df_2 = pd.read_csv(file_path, compression='zip')\n",
    "\n",
    "# file_path = \"optiver_training_data/train_part_3.csv.zip\"\n",
    "# df_3 = pd.read_csv(file_path, compression='zip')\n",
    "\n",
    "# df = pd.concat([df_1, df_2, df_3], ignore_index=True)\n",
    "# df.head()"
   ]
  },
  {
   "cell_type": "markdown",
   "metadata": {},
   "source": [
    "## Data Preparation"
   ]
  },
  {
   "cell_type": "markdown",
   "metadata": {},
   "source": [
    "This code prepares time-series data for model training by performing a temporal split based on `date_id`, dividing the dataset into training (70%), validation (15%), and test (15%) sets. It selects features, separates the target variable, and optionally applies feature scaling (commented out). The processed data is converted into DataFrames, excluding `date_id` for training. Finally, it creates PyTorch `SequenceDataset` objects and corresponding DataLoaders for efficient batch processing during model training and validation."
   ]
  },
  {
   "cell_type": "code",
   "execution_count": 4,
   "metadata": {},
   "outputs": [],
   "source": [
    "# Specify identifier columns and target; assume the rest need scaling\n",
    "id_cols = ['date_id', 'time_id', 'stock_id']\n",
    "scale_cols = [col for col in df.columns if col not in id_cols + ['target']]\n",
    "\n",
    "# Instead of a fixed 70/15/15 split, we’ll use time-series CV.\n",
    "# Fit the scaler on the entire dataset or (preferably) on training folds only.\n",
    "scaler = MinMaxScaler().fit(df[scale_cols])\n",
    "def scale_data(df, scaler, scale_cols, id_cols):\n",
    "    scaled = scaler.transform(df[scale_cols])\n",
    "    scaled_df = pd.DataFrame(scaled, columns=scale_cols, index=df.index)\n",
    "    for col in id_cols + ['target']:\n",
    "        scaled_df[col] = df[col].values\n",
    "    return scaled_df\n",
    "\n",
    "df = scale_data(df, scaler, scale_cols, id_cols)\n",
    "\n",
    "# We use 'time_id' as our group label for CV.\n",
    "groups = df['time_id'].values\n",
    "\n",
    "# Initialize our CV splitter\n",
    "cv = PurgedGroupTimeSeriesSplit(n_splits=N_FOLDS, max_val_group_size=200, val_group_gap=10)\n"
   ]
  },
  {
   "cell_type": "code",
   "execution_count": 5,
   "metadata": {},
   "outputs": [],
   "source": [
    "# Cell 4: Revised Dataset and CNN Model Architecture with BatchNorm\n",
    "\n",
    "class StockDataset(Dataset):\n",
    "    def __init__(self, df, scale_cols, id_cols):\n",
    "        self.scale_cols = scale_cols\n",
    "        self.id_cols = id_cols\n",
    "        # Group by time_id so that each sample is one time slice\n",
    "        self.groups = [group for _, group in df.groupby('time_id')]\n",
    "        \n",
    "    def __len__(self):\n",
    "        return len(self.groups)\n",
    "    \n",
    "    def __getitem__(self, idx):\n",
    "        group = self.groups[idx].copy()\n",
    "        # Ensure consistent ordering by stock_id\n",
    "        group = group.sort_values('stock_id')\n",
    "        # Pad to 200 stocks if necessary\n",
    "        group = group.set_index('stock_id').reindex(range(200), fill_value=0).reset_index()\n",
    "        # Use only scaled features for the model\n",
    "        features_tensor = torch.tensor(group[self.scale_cols].values, dtype=torch.float32)\n",
    "        targets_tensor = torch.tensor(group['target'].values, dtype=torch.float32)\n",
    "        # Transpose: shape becomes (num_features, 200)\n",
    "        return features_tensor.T, targets_tensor\n",
    "\n",
    "# Revised CNN Model Architecture with Batch Normalization\n",
    "class CNN(nn.Module):\n",
    "    def __init__(self, input_dim):\n",
    "        super().__init__()\n",
    "        self.features = nn.Sequential(\n",
    "            nn.Conv1d(input_dim, 64, kernel_size=3, padding=1),\n",
    "            nn.BatchNorm1d(64),\n",
    "            nn.ReLU(),\n",
    "            nn.Conv1d(64, 64, kernel_size=3, padding=1),\n",
    "            nn.BatchNorm1d(64),\n",
    "            nn.ReLU(),\n",
    "            nn.AvgPool1d(2),\n",
    "            \n",
    "            nn.Conv1d(64, 128, kernel_size=3, padding=1),\n",
    "            nn.BatchNorm1d(128),\n",
    "            nn.ReLU(),\n",
    "            nn.Conv1d(128, 128, kernel_size=3, padding=1),\n",
    "            nn.BatchNorm1d(128),\n",
    "            nn.ReLU(),\n",
    "            nn.AvgPool1d(2),\n",
    "            \n",
    "            nn.Conv1d(128, 256, kernel_size=3, padding=1),\n",
    "            nn.BatchNorm1d(256),\n",
    "            nn.ReLU(),\n",
    "            nn.Conv1d(256, 256, kernel_size=3, padding=1),\n",
    "            nn.BatchNorm1d(256),\n",
    "            nn.ReLU(),\n",
    "            nn.Conv1d(256, 256, kernel_size=3, padding=1),\n",
    "            nn.BatchNorm1d(256),\n",
    "            nn.ReLU(),\n",
    "            \n",
    "            nn.AdaptiveAvgPool1d(1)  # Global average pooling to produce (batch, 256, 1)\n",
    "        )\n",
    "        self.classifier = nn.Sequential(\n",
    "            nn.Dropout(DROPOUT),\n",
    "            nn.Linear(256, 64),  # Increased hidden dimension for richer representation\n",
    "            nn.ReLU(),\n",
    "            nn.Linear(64, 200)   # Output for 200 stocks\n",
    "        )\n",
    "        \n",
    "    def forward(self, x):\n",
    "        # x shape: (batch_size, input_dim, 200)\n",
    "        x = self.features(x)  # -> (batch_size, 256, 1)\n",
    "        x = x.squeeze(-1)     # -> (batch_size, 256)\n",
    "        out = self.classifier(x)  # -> (batch_size, 200)\n",
    "        return out\n",
    "\n",
    "# For our data, input_dim equals the number of scaled features\n",
    "model_input_dim = len(scale_cols)\n"
   ]
  },
  {
   "cell_type": "markdown",
   "metadata": {},
   "source": [
    "## Main Training Loop"
   ]
  },
  {
   "cell_type": "markdown",
   "metadata": {},
   "source": [
    "This code implements the full training loop for the `Linear_model` with detailed tracking and early stopping:\n",
    "\n",
    "1. **Initialization**:  \n",
    "   - A `history` dictionary records training/validation losses and learning rates.  \n",
    "   - Early stopping is prepared with variables to track the best validation loss and patience count.\n",
    "\n",
    "2. **Training Loop**:  \n",
    "   - **`train_epoch`**:\n",
    "     - Sets the model to training mode.\n",
    "     - Iterates through the training DataLoader.\n",
    "     - Moves data to the appropriate device and reshapes the target for the GRU.\n",
    "     - Computes predictions, calculates L1 loss, performs backpropagation, applies gradient clipping (to prevent exploding gradients), and updates model weights.\n",
    "     - Accumulates the total loss to compute the average at the end of the epoch.\n",
    "     \n",
    "   - **`validate_epoch`**:\n",
    "     - Sets the model to evaluation mode.\n",
    "     - Runs forward passes without gradient tracking on the validation data.\n",
    "     - Computes average validation loss for monitoring.\n",
    "\n",
    "3. **Epoch-wise Operations**:  \n",
    "   - Trains and validates the model for each epoch.\n",
    "   - Logs train/validation MAE (Mean Absolute Error) and learning rate.\n",
    "   - Updates the learning rate using the `ExponentialLR` scheduler.\n",
    "\n",
    "4. **Early Stopping**:  \n",
    "   - Monitors validation loss to detect improvements.\n",
    "   - Saves the model if the validation loss improves.\n",
    "   - Triggers early stopping if no improvement is observed for a defined number of epochs.\n",
    "\n",
    "5. **Finalization**:  \n",
    "   - Prints total training time.\n",
    "   - Saves the final or best-performing model.\n",
    "\n",
    "This approach ensures efficient training while preventing overfitting through early stopping and controlled learning rate decay."
   ]
  },
  {
   "cell_type": "code",
   "execution_count": 6,
   "metadata": {},
   "outputs": [
    {
     "name": "stdout",
     "output_type": "stream",
     "text": [
      "\n",
      "------------------ Fold 1 ------------------\n"
     ]
    },
    {
     "name": "stderr",
     "output_type": "stream",
     "text": [
      "/Users/dawsonhaddox/anaconda3/envs/cosc78/lib/python3.11/site-packages/torch/optim/lr_scheduler.py:28: UserWarning: The verbose parameter is deprecated. Please use get_last_lr() to access the learning rate.\n",
      "  warnings.warn(\"The verbose parameter is deprecated. Please use get_last_lr() \"\n",
      "                                                                        \r"
     ]
    },
    {
     "name": "stdout",
     "output_type": "stream",
     "text": [
      "Epoch 1: Train MSE: 76.3809 | Val MSE: 79.8214 | Val MAE: 6.2481 | LR: 0.001000\n",
      "--> New best model saved with val MSE: 79.8214\n"
     ]
    },
    {
     "name": "stderr",
     "output_type": "stream",
     "text": [
      "                                                                        \r"
     ]
    },
    {
     "name": "stdout",
     "output_type": "stream",
     "text": [
      "Epoch 2: Train MSE: 76.0630 | Val MSE: 77.2555 | Val MAE: 6.1038 | LR: 0.001000\n",
      "--> New best model saved with val MSE: 77.2555\n"
     ]
    },
    {
     "name": "stderr",
     "output_type": "stream",
     "text": [
      "                                                                        \r"
     ]
    },
    {
     "name": "stdout",
     "output_type": "stream",
     "text": [
      "Epoch 3: Train MSE: 75.8397 | Val MSE: 77.4145 | Val MAE: 6.1132 | LR: 0.001000\n"
     ]
    },
    {
     "name": "stderr",
     "output_type": "stream",
     "text": [
      "                                                                        \r"
     ]
    },
    {
     "name": "stdout",
     "output_type": "stream",
     "text": [
      "Epoch 4: Train MSE: 75.5341 | Val MSE: 113.7068 | Val MAE: 7.6812 | LR: 0.001000\n"
     ]
    },
    {
     "name": "stderr",
     "output_type": "stream",
     "text": [
      "                                                                        \r"
     ]
    },
    {
     "name": "stdout",
     "output_type": "stream",
     "text": [
      "Epoch 5: Train MSE: 75.3307 | Val MSE: 78.7351 | Val MAE: 6.1857 | LR: 0.001000\n"
     ]
    },
    {
     "name": "stderr",
     "output_type": "stream",
     "text": [
      "                                                                        \r"
     ]
    },
    {
     "name": "stdout",
     "output_type": "stream",
     "text": [
      "Epoch 6: Train MSE: 75.0875 | Val MSE: 86.8230 | Val MAE: 6.5936 | LR: 0.001000\n"
     ]
    },
    {
     "name": "stderr",
     "output_type": "stream",
     "text": [
      "                                                                        \r"
     ]
    },
    {
     "name": "stdout",
     "output_type": "stream",
     "text": [
      "Epoch 7: Train MSE: 74.8472 | Val MSE: 85.3195 | Val MAE: 6.4646 | LR: 0.001000\n"
     ]
    },
    {
     "name": "stderr",
     "output_type": "stream",
     "text": [
      "                                                                        \r"
     ]
    },
    {
     "name": "stdout",
     "output_type": "stream",
     "text": [
      "Epoch 8: Train MSE: 74.6474 | Val MSE: 78.0300 | Val MAE: 6.1470 | LR: 0.000100\n"
     ]
    },
    {
     "name": "stderr",
     "output_type": "stream",
     "text": [
      "                                                                        \r"
     ]
    },
    {
     "name": "stdout",
     "output_type": "stream",
     "text": [
      "Epoch 9: Train MSE: 73.9921 | Val MSE: 79.6639 | Val MAE: 6.2064 | LR: 0.000100\n"
     ]
    },
    {
     "name": "stderr",
     "output_type": "stream",
     "text": [
      "                                                                         \r"
     ]
    },
    {
     "name": "stdout",
     "output_type": "stream",
     "text": [
      "Epoch 10: Train MSE: 73.8229 | Val MSE: 78.7740 | Val MAE: 6.1692 | LR: 0.000100\n"
     ]
    },
    {
     "name": "stderr",
     "output_type": "stream",
     "text": [
      "                                                                         \r"
     ]
    },
    {
     "name": "stdout",
     "output_type": "stream",
     "text": [
      "Epoch 11: Train MSE: 73.7161 | Val MSE: 78.8865 | Val MAE: 6.1725 | LR: 0.000100\n"
     ]
    },
    {
     "name": "stderr",
     "output_type": "stream",
     "text": [
      "                                                                         \r"
     ]
    },
    {
     "name": "stdout",
     "output_type": "stream",
     "text": [
      "Epoch 12: Train MSE: 73.6004 | Val MSE: 78.7340 | Val MAE: 6.1693 | LR: 0.000100\n",
      "Early stopping triggered.\n",
      "\n",
      "------------------ Fold 2 ------------------\n"
     ]
    },
    {
     "name": "stderr",
     "output_type": "stream",
     "text": [
      "/Users/dawsonhaddox/anaconda3/envs/cosc78/lib/python3.11/site-packages/torch/optim/lr_scheduler.py:28: UserWarning: The verbose parameter is deprecated. Please use get_last_lr() to access the learning rate.\n",
      "  warnings.warn(\"The verbose parameter is deprecated. Please use get_last_lr() \"\n",
      "                                                                        \r"
     ]
    },
    {
     "name": "stdout",
     "output_type": "stream",
     "text": [
      "Epoch 1: Train MSE: 76.3607 | Val MSE: 110.4850 | Val MAE: 7.3919 | LR: 0.001000\n",
      "--> New best model saved with val MSE: 110.4850\n"
     ]
    },
    {
     "name": "stderr",
     "output_type": "stream",
     "text": [
      "                                                                        \r"
     ]
    },
    {
     "name": "stdout",
     "output_type": "stream",
     "text": [
      "Epoch 2: Train MSE: 76.0308 | Val MSE: 107.4112 | Val MAE: 7.2421 | LR: 0.001000\n",
      "--> New best model saved with val MSE: 107.4112\n"
     ]
    },
    {
     "name": "stderr",
     "output_type": "stream",
     "text": [
      "                                                                        \r"
     ]
    },
    {
     "name": "stdout",
     "output_type": "stream",
     "text": [
      "Epoch 3: Train MSE: 75.8464 | Val MSE: 107.8977 | Val MAE: 7.2576 | LR: 0.001000\n"
     ]
    },
    {
     "name": "stderr",
     "output_type": "stream",
     "text": [
      "                                                                        \r"
     ]
    },
    {
     "name": "stdout",
     "output_type": "stream",
     "text": [
      "Epoch 4: Train MSE: 75.6688 | Val MSE: 107.7044 | Val MAE: 7.2438 | LR: 0.001000\n"
     ]
    },
    {
     "name": "stderr",
     "output_type": "stream",
     "text": [
      "                                                                        \r"
     ]
    },
    {
     "name": "stdout",
     "output_type": "stream",
     "text": [
      "Epoch 5: Train MSE: 75.4824 | Val MSE: 124.1011 | Val MAE: 7.9588 | LR: 0.001000\n"
     ]
    },
    {
     "name": "stderr",
     "output_type": "stream",
     "text": [
      "                                                                        \r"
     ]
    },
    {
     "name": "stdout",
     "output_type": "stream",
     "text": [
      "Epoch 6: Train MSE: 75.2539 | Val MSE: 263.2036 | Val MAE: 12.2922 | LR: 0.001000\n"
     ]
    },
    {
     "name": "stderr",
     "output_type": "stream",
     "text": [
      "                                                                        \r"
     ]
    },
    {
     "name": "stdout",
     "output_type": "stream",
     "text": [
      "Epoch 7: Train MSE: 75.0200 | Val MSE: 117.8435 | Val MAE: 7.6609 | LR: 0.001000\n"
     ]
    },
    {
     "name": "stderr",
     "output_type": "stream",
     "text": [
      "                                                                        \r"
     ]
    },
    {
     "name": "stdout",
     "output_type": "stream",
     "text": [
      "Epoch 8: Train MSE: 74.7870 | Val MSE: 116.7907 | Val MAE: 7.6118 | LR: 0.000100\n"
     ]
    },
    {
     "name": "stderr",
     "output_type": "stream",
     "text": [
      "                                                                        \r"
     ]
    },
    {
     "name": "stdout",
     "output_type": "stream",
     "text": [
      "Epoch 9: Train MSE: 74.2902 | Val MSE: 108.0038 | Val MAE: 7.2488 | LR: 0.000100\n"
     ]
    },
    {
     "name": "stderr",
     "output_type": "stream",
     "text": [
      "                                                                         \r"
     ]
    },
    {
     "name": "stdout",
     "output_type": "stream",
     "text": [
      "Epoch 10: Train MSE: 74.0877 | Val MSE: 108.1696 | Val MAE: 7.2516 | LR: 0.000100\n"
     ]
    },
    {
     "name": "stderr",
     "output_type": "stream",
     "text": [
      "                                                                         \r"
     ]
    },
    {
     "name": "stdout",
     "output_type": "stream",
     "text": [
      "Epoch 11: Train MSE: 73.9808 | Val MSE: 108.9896 | Val MAE: 7.2854 | LR: 0.000100\n"
     ]
    },
    {
     "name": "stderr",
     "output_type": "stream",
     "text": [
      "                                                                         \r"
     ]
    },
    {
     "name": "stdout",
     "output_type": "stream",
     "text": [
      "Epoch 12: Train MSE: 73.9234 | Val MSE: 108.7221 | Val MAE: 7.2721 | LR: 0.000100\n",
      "Early stopping triggered.\n",
      "\n",
      "------------------ Fold 3 ------------------\n"
     ]
    },
    {
     "name": "stderr",
     "output_type": "stream",
     "text": [
      "/Users/dawsonhaddox/anaconda3/envs/cosc78/lib/python3.11/site-packages/torch/optim/lr_scheduler.py:28: UserWarning: The verbose parameter is deprecated. Please use get_last_lr() to access the learning rate.\n",
      "  warnings.warn(\"The verbose parameter is deprecated. Please use get_last_lr() \"\n",
      "                                                                        \r"
     ]
    },
    {
     "name": "stdout",
     "output_type": "stream",
     "text": [
      "Epoch 1: Train MSE: 77.2641 | Val MSE: 98.0294 | Val MAE: 7.0298 | LR: 0.001000\n",
      "--> New best model saved with val MSE: 98.0294\n"
     ]
    },
    {
     "name": "stderr",
     "output_type": "stream",
     "text": [
      "                                                                        \r"
     ]
    },
    {
     "name": "stdout",
     "output_type": "stream",
     "text": [
      "Epoch 2: Train MSE: 76.9217 | Val MSE: 97.1851 | Val MAE: 6.9782 | LR: 0.001000\n",
      "--> New best model saved with val MSE: 97.1851\n"
     ]
    },
    {
     "name": "stderr",
     "output_type": "stream",
     "text": [
      "                                                                        \r"
     ]
    },
    {
     "name": "stdout",
     "output_type": "stream",
     "text": [
      "Epoch 3: Train MSE: 76.7098 | Val MSE: 97.0116 | Val MAE: 6.9753 | LR: 0.001000\n",
      "--> New best model saved with val MSE: 97.0116\n"
     ]
    },
    {
     "name": "stderr",
     "output_type": "stream",
     "text": [
      "                                                                        \r"
     ]
    },
    {
     "name": "stdout",
     "output_type": "stream",
     "text": [
      "Epoch 4: Train MSE: 76.4858 | Val MSE: 95.9124 | Val MAE: 6.9302 | LR: 0.001000\n",
      "--> New best model saved with val MSE: 95.9124\n"
     ]
    },
    {
     "name": "stderr",
     "output_type": "stream",
     "text": [
      "                                                                        \r"
     ]
    },
    {
     "name": "stdout",
     "output_type": "stream",
     "text": [
      "Epoch 5: Train MSE: 76.3130 | Val MSE: 99.6105 | Val MAE: 7.1169 | LR: 0.001000\n"
     ]
    },
    {
     "name": "stderr",
     "output_type": "stream",
     "text": [
      "                                                                        \r"
     ]
    },
    {
     "name": "stdout",
     "output_type": "stream",
     "text": [
      "Epoch 6: Train MSE: 76.0019 | Val MSE: 96.3786 | Val MAE: 6.9423 | LR: 0.001000\n"
     ]
    },
    {
     "name": "stderr",
     "output_type": "stream",
     "text": [
      "                                                                        \r"
     ]
    },
    {
     "name": "stdout",
     "output_type": "stream",
     "text": [
      "Epoch 7: Train MSE: 75.6807 | Val MSE: 97.1066 | Val MAE: 6.9820 | LR: 0.001000\n"
     ]
    },
    {
     "name": "stderr",
     "output_type": "stream",
     "text": [
      "                                                                        \r"
     ]
    },
    {
     "name": "stdout",
     "output_type": "stream",
     "text": [
      "Epoch 8: Train MSE: 75.4001 | Val MSE: 97.3585 | Val MAE: 6.9868 | LR: 0.001000\n"
     ]
    },
    {
     "name": "stderr",
     "output_type": "stream",
     "text": [
      "                                                                        \r"
     ]
    },
    {
     "name": "stdout",
     "output_type": "stream",
     "text": [
      "Epoch 9: Train MSE: 75.0666 | Val MSE: 98.3851 | Val MAE: 7.0472 | LR: 0.001000\n"
     ]
    },
    {
     "name": "stderr",
     "output_type": "stream",
     "text": [
      "                                                                         \r"
     ]
    },
    {
     "name": "stdout",
     "output_type": "stream",
     "text": [
      "Epoch 10: Train MSE: 74.7297 | Val MSE: 97.1864 | Val MAE: 6.9880 | LR: 0.000100\n"
     ]
    },
    {
     "name": "stderr",
     "output_type": "stream",
     "text": [
      "                                                                         \r"
     ]
    },
    {
     "name": "stdout",
     "output_type": "stream",
     "text": [
      "Epoch 11: Train MSE: 74.0421 | Val MSE: 97.1804 | Val MAE: 6.9777 | LR: 0.000100\n"
     ]
    },
    {
     "name": "stderr",
     "output_type": "stream",
     "text": [
      "                                                                         \r"
     ]
    },
    {
     "name": "stdout",
     "output_type": "stream",
     "text": [
      "Epoch 12: Train MSE: 73.7554 | Val MSE: 98.1862 | Val MAE: 7.0326 | LR: 0.000100\n"
     ]
    },
    {
     "name": "stderr",
     "output_type": "stream",
     "text": [
      "                                                                         \r"
     ]
    },
    {
     "name": "stdout",
     "output_type": "stream",
     "text": [
      "Epoch 13: Train MSE: 73.6193 | Val MSE: 97.9599 | Val MAE: 7.0243 | LR: 0.000100\n"
     ]
    },
    {
     "name": "stderr",
     "output_type": "stream",
     "text": [
      "                                                                         \r"
     ]
    },
    {
     "name": "stdout",
     "output_type": "stream",
     "text": [
      "Epoch 14: Train MSE: 73.4784 | Val MSE: 97.7450 | Val MAE: 7.0119 | LR: 0.000100\n",
      "Early stopping triggered.\n",
      "\n",
      "------------------ Fold 4 ------------------\n"
     ]
    },
    {
     "name": "stderr",
     "output_type": "stream",
     "text": [
      "/Users/dawsonhaddox/anaconda3/envs/cosc78/lib/python3.11/site-packages/torch/optim/lr_scheduler.py:28: UserWarning: The verbose parameter is deprecated. Please use get_last_lr() to access the learning rate.\n",
      "  warnings.warn(\"The verbose parameter is deprecated. Please use get_last_lr() \"\n",
      "                                                                        \r"
     ]
    },
    {
     "name": "stdout",
     "output_type": "stream",
     "text": [
      "Epoch 1: Train MSE: 77.9832 | Val MSE: 106.1273 | Val MAE: 7.4036 | LR: 0.001000\n",
      "--> New best model saved with val MSE: 106.1273\n"
     ]
    },
    {
     "name": "stderr",
     "output_type": "stream",
     "text": [
      "                                                                        \r"
     ]
    },
    {
     "name": "stdout",
     "output_type": "stream",
     "text": [
      "Epoch 2: Train MSE: 77.6390 | Val MSE: 174.5962 | Val MAE: 9.5000 | LR: 0.001000\n"
     ]
    },
    {
     "name": "stderr",
     "output_type": "stream",
     "text": [
      "                                                                        \r"
     ]
    },
    {
     "name": "stdout",
     "output_type": "stream",
     "text": [
      "Epoch 3: Train MSE: 77.4362 | Val MSE: 109.6151 | Val MAE: 7.5236 | LR: 0.001000\n"
     ]
    },
    {
     "name": "stderr",
     "output_type": "stream",
     "text": [
      "                                                                        \r"
     ]
    },
    {
     "name": "stdout",
     "output_type": "stream",
     "text": [
      "Epoch 4: Train MSE: 77.2300 | Val MSE: 356.4971 | Val MAE: 14.8701 | LR: 0.001000\n"
     ]
    },
    {
     "name": "stderr",
     "output_type": "stream",
     "text": [
      "                                                                        \r"
     ]
    },
    {
     "name": "stdout",
     "output_type": "stream",
     "text": [
      "Epoch 5: Train MSE: 77.0025 | Val MSE: 102.6265 | Val MAE: 7.2440 | LR: 0.001000\n",
      "--> New best model saved with val MSE: 102.6265\n"
     ]
    },
    {
     "name": "stderr",
     "output_type": "stream",
     "text": [
      "                                                                        \r"
     ]
    },
    {
     "name": "stdout",
     "output_type": "stream",
     "text": [
      "Epoch 6: Train MSE: 76.8309 | Val MSE: 103.4030 | Val MAE: 7.2678 | LR: 0.001000\n"
     ]
    },
    {
     "name": "stderr",
     "output_type": "stream",
     "text": [
      "                                                                        \r"
     ]
    },
    {
     "name": "stdout",
     "output_type": "stream",
     "text": [
      "Epoch 7: Train MSE: 76.5732 | Val MSE: 102.8669 | Val MAE: 7.2688 | LR: 0.001000\n"
     ]
    },
    {
     "name": "stderr",
     "output_type": "stream",
     "text": [
      "                                                                        \r"
     ]
    },
    {
     "name": "stdout",
     "output_type": "stream",
     "text": [
      "Epoch 8: Train MSE: 76.3122 | Val MSE: 120.7183 | Val MAE: 7.9561 | LR: 0.001000\n"
     ]
    },
    {
     "name": "stderr",
     "output_type": "stream",
     "text": [
      "                                                                        \r"
     ]
    },
    {
     "name": "stdout",
     "output_type": "stream",
     "text": [
      "Epoch 9: Train MSE: 76.0177 | Val MSE: 104.1819 | Val MAE: 7.2996 | LR: 0.001000\n"
     ]
    },
    {
     "name": "stderr",
     "output_type": "stream",
     "text": [
      "                                                                         \r"
     ]
    },
    {
     "name": "stdout",
     "output_type": "stream",
     "text": [
      "Epoch 10: Train MSE: 75.6818 | Val MSE: 103.3859 | Val MAE: 7.2795 | LR: 0.001000\n"
     ]
    },
    {
     "name": "stderr",
     "output_type": "stream",
     "text": [
      "                                                                         \r"
     ]
    },
    {
     "name": "stdout",
     "output_type": "stream",
     "text": [
      "Epoch 11: Train MSE: 75.3434 | Val MSE: 117.2088 | Val MAE: 7.8130 | LR: 0.000100\n"
     ]
    },
    {
     "name": "stderr",
     "output_type": "stream",
     "text": [
      "                                                                         \r"
     ]
    },
    {
     "name": "stdout",
     "output_type": "stream",
     "text": [
      "Epoch 12: Train MSE: 74.5174 | Val MSE: 103.4601 | Val MAE: 7.2716 | LR: 0.000100\n"
     ]
    },
    {
     "name": "stderr",
     "output_type": "stream",
     "text": [
      "                                                                         \r"
     ]
    },
    {
     "name": "stdout",
     "output_type": "stream",
     "text": [
      "Epoch 13: Train MSE: 74.2583 | Val MSE: 103.6937 | Val MAE: 7.2800 | LR: 0.000100\n"
     ]
    },
    {
     "name": "stderr",
     "output_type": "stream",
     "text": [
      "                                                                         \r"
     ]
    },
    {
     "name": "stdout",
     "output_type": "stream",
     "text": [
      "Epoch 14: Train MSE: 74.0011 | Val MSE: 103.3989 | Val MAE: 7.2713 | LR: 0.000100\n"
     ]
    },
    {
     "name": "stderr",
     "output_type": "stream",
     "text": [
      "                                                                         \r"
     ]
    },
    {
     "name": "stdout",
     "output_type": "stream",
     "text": [
      "Epoch 15: Train MSE: 73.8509 | Val MSE: 103.1999 | Val MAE: 7.2616 | LR: 0.000100\n",
      "Early stopping triggered.\n",
      "\n",
      "------------------ Fold 5 ------------------\n"
     ]
    },
    {
     "name": "stderr",
     "output_type": "stream",
     "text": [
      "/Users/dawsonhaddox/anaconda3/envs/cosc78/lib/python3.11/site-packages/torch/optim/lr_scheduler.py:28: UserWarning: The verbose parameter is deprecated. Please use get_last_lr() to access the learning rate.\n",
      "  warnings.warn(\"The verbose parameter is deprecated. Please use get_last_lr() \"\n",
      "                                                                        \r"
     ]
    },
    {
     "name": "stdout",
     "output_type": "stream",
     "text": [
      "Epoch 1: Train MSE: 78.5877 | Val MSE: 226.0256 | Val MAE: 9.9445 | LR: 0.001000\n",
      "--> New best model saved with val MSE: 226.0256\n"
     ]
    },
    {
     "name": "stderr",
     "output_type": "stream",
     "text": [
      "                                                                         \r"
     ]
    },
    {
     "name": "stdout",
     "output_type": "stream",
     "text": [
      "Epoch 2: Train MSE: 78.2610 | Val MSE: 226.6564 | Val MAE: 9.9618 | LR: 0.001000\n"
     ]
    },
    {
     "name": "stderr",
     "output_type": "stream",
     "text": [
      "                                                                        \r"
     ]
    },
    {
     "name": "stdout",
     "output_type": "stream",
     "text": [
      "Epoch 3: Train MSE: 78.0274 | Val MSE: 226.2357 | Val MAE: 9.9450 | LR: 0.001000\n"
     ]
    },
    {
     "name": "stderr",
     "output_type": "stream",
     "text": [
      "                                                                        \r"
     ]
    },
    {
     "name": "stdout",
     "output_type": "stream",
     "text": [
      "Epoch 4: Train MSE: 77.8013 | Val MSE: 228.7456 | Val MAE: 10.0265 | LR: 0.001000\n"
     ]
    },
    {
     "name": "stderr",
     "output_type": "stream",
     "text": [
      "                                                                        \r"
     ]
    },
    {
     "name": "stdout",
     "output_type": "stream",
     "text": [
      "Epoch 5: Train MSE: 77.6657 | Val MSE: 224.4133 | Val MAE: 9.8944 | LR: 0.001000\n",
      "--> New best model saved with val MSE: 224.4133\n"
     ]
    },
    {
     "name": "stderr",
     "output_type": "stream",
     "text": [
      "                                                                        \r"
     ]
    },
    {
     "name": "stdout",
     "output_type": "stream",
     "text": [
      "Epoch 6: Train MSE: 77.3811 | Val MSE: 230.2814 | Val MAE: 10.0517 | LR: 0.001000\n"
     ]
    },
    {
     "name": "stderr",
     "output_type": "stream",
     "text": [
      "                                                                        \r"
     ]
    },
    {
     "name": "stdout",
     "output_type": "stream",
     "text": [
      "Epoch 7: Train MSE: 77.1696 | Val MSE: 247.8514 | Val MAE: 10.5746 | LR: 0.001000\n"
     ]
    },
    {
     "name": "stderr",
     "output_type": "stream",
     "text": [
      "                                                                        \r"
     ]
    },
    {
     "name": "stdout",
     "output_type": "stream",
     "text": [
      "Epoch 8: Train MSE: 76.9078 | Val MSE: 234.3016 | Val MAE: 10.1669 | LR: 0.001000\n"
     ]
    },
    {
     "name": "stderr",
     "output_type": "stream",
     "text": [
      "                                                                        \r"
     ]
    },
    {
     "name": "stdout",
     "output_type": "stream",
     "text": [
      "Epoch 9: Train MSE: 76.6248 | Val MSE: 236.0353 | Val MAE: 10.2344 | LR: 0.001000\n"
     ]
    },
    {
     "name": "stderr",
     "output_type": "stream",
     "text": [
      "                                                                         \r"
     ]
    },
    {
     "name": "stdout",
     "output_type": "stream",
     "text": [
      "Epoch 10: Train MSE: 76.3383 | Val MSE: 249.7922 | Val MAE: 10.6213 | LR: 0.001000\n"
     ]
    },
    {
     "name": "stderr",
     "output_type": "stream",
     "text": [
      "                                                                         \r"
     ]
    },
    {
     "name": "stdout",
     "output_type": "stream",
     "text": [
      "Epoch 11: Train MSE: 75.9632 | Val MSE: 241.2280 | Val MAE: 10.3562 | LR: 0.000100\n"
     ]
    },
    {
     "name": "stderr",
     "output_type": "stream",
     "text": [
      "                                                                         \r"
     ]
    },
    {
     "name": "stdout",
     "output_type": "stream",
     "text": [
      "Epoch 12: Train MSE: 75.1829 | Val MSE: 228.6032 | Val MAE: 9.9987 | LR: 0.000100\n"
     ]
    },
    {
     "name": "stderr",
     "output_type": "stream",
     "text": [
      "                                                                         \r"
     ]
    },
    {
     "name": "stdout",
     "output_type": "stream",
     "text": [
      "Epoch 13: Train MSE: 74.9506 | Val MSE: 230.4288 | Val MAE: 10.0663 | LR: 0.000100\n"
     ]
    },
    {
     "name": "stderr",
     "output_type": "stream",
     "text": [
      "                                                                         \r"
     ]
    },
    {
     "name": "stdout",
     "output_type": "stream",
     "text": [
      "Epoch 14: Train MSE: 74.7779 | Val MSE: 229.4677 | Val MAE: 10.0239 | LR: 0.000100\n"
     ]
    },
    {
     "name": "stderr",
     "output_type": "stream",
     "text": [
      "                                                                         \r"
     ]
    },
    {
     "name": "stdout",
     "output_type": "stream",
     "text": [
      "Epoch 15: Train MSE: 74.6080 | Val MSE: 228.5515 | Val MAE: 10.0119 | LR: 0.000100\n",
      "Early stopping triggered.\n",
      "\n",
      "CV Results:\n",
      "Average validation loss: 121.5238\n"
     ]
    }
   ],
   "source": [
    "# Cell 5: Cross-Validation Training Loop with MAE Printing\n",
    "\n",
    "def train_fold(train_df, val_df):\n",
    "    # Create dataset and loaders for this fold\n",
    "    train_ds = StockDataset(train_df, scale_cols, id_cols)\n",
    "    val_ds = StockDataset(val_df, scale_cols, id_cols)\n",
    "    \n",
    "    train_loader = DataLoader(train_ds, batch_size=BATCH_SIZE, shuffle=True)\n",
    "    val_loader = DataLoader(val_ds, batch_size=BATCH_SIZE)\n",
    "    \n",
    "    # Initialize the model\n",
    "    model = CNN(input_dim=model_input_dim).to(device)\n",
    "    \n",
    "    # Define loss criteria: MSE for training and MAE for evaluation\n",
    "    mse_criterion = nn.MSELoss()\n",
    "    mae_criterion = nn.L1Loss()\n",
    "    \n",
    "    optimizer = AdamW(model.parameters(), lr=LEARNING_RATE, weight_decay=WEIGHT_DECAY)\n",
    "    scheduler = ReduceLROnPlateau(optimizer, mode='min', patience=LR_PATIENCE, factor=0.1, verbose=True)\n",
    "    \n",
    "    best_val_loss = float('inf')\n",
    "    patience_counter = PATIENCE\n",
    "    \n",
    "    for epoch in range(NUM_EPOCHS):\n",
    "        model.train()\n",
    "        train_loss = 0.0\n",
    "        for X, y in tqdm(train_loader, desc=f'Fold Training Epoch {epoch+1}', leave=False):\n",
    "            X, y = X.to(device), y.to(device)\n",
    "            optimizer.zero_grad()\n",
    "            outputs = model(X)\n",
    "            loss = mse_criterion(outputs, y)\n",
    "            loss.backward()\n",
    "            clip_grad_norm_(model.parameters(), 1.0)\n",
    "            optimizer.step()\n",
    "            train_loss += loss.item() * X.size(0)\n",
    "        train_loss /= len(train_loader.dataset)\n",
    "        \n",
    "        # Validation phase\n",
    "        model.eval()\n",
    "        val_loss = 0.0\n",
    "        val_mae_loss = 0.0\n",
    "        with torch.no_grad():\n",
    "            for X, y in val_loader:\n",
    "                X, y = X.to(device), y.to(device)\n",
    "                outputs = model(X)\n",
    "                loss = mse_criterion(outputs, y)\n",
    "                mae_loss = mae_criterion(outputs, y)\n",
    "                val_loss += loss.item() * X.size(0)\n",
    "                val_mae_loss += mae_loss.item() * X.size(0)\n",
    "        val_loss /= len(val_loader.dataset)\n",
    "        val_mae_loss /= len(val_loader.dataset)\n",
    "        \n",
    "        scheduler.step(val_loss)\n",
    "        current_lr = optimizer.param_groups[0]['lr']\n",
    "        print(f\"Epoch {epoch+1}: Train MSE: {train_loss:.4f} | Val MSE: {val_loss:.4f} | Val MAE: {val_mae_loss:.4f} | LR: {current_lr:.6f}\")\n",
    "        \n",
    "        # Early stopping\n",
    "        if val_loss < best_val_loss:\n",
    "            best_val_loss = val_loss\n",
    "            best_model_state = model.state_dict()\n",
    "            patience_counter = PATIENCE\n",
    "            print(f\"--> New best model saved with val MSE: {best_val_loss:.4f}\")\n",
    "        else:\n",
    "            patience_counter -= 1\n",
    "            if patience_counter == 0:\n",
    "                print(\"Early stopping triggered.\")\n",
    "                break\n",
    "    return best_model_state, best_val_loss\n",
    "\n",
    "# Loop over folds using the CV splitter\n",
    "fold_results = []\n",
    "all_indices = np.arange(len(df))\n",
    "df = df.reset_index(drop=True)  # Ensure proper indexing\n",
    "\n",
    "for fold, (train_idx, val_idx) in enumerate(cv.split(df, groups=groups)):\n",
    "    print(f\"\\n------------------ Fold {fold+1} ------------------\")\n",
    "    train_fold_df = df.iloc[train_idx].reset_index(drop=True)\n",
    "    val_fold_df = df.iloc[val_idx].reset_index(drop=True)\n",
    "    \n",
    "    best_state, best_loss = train_fold(train_fold_df, val_fold_df)\n",
    "    fold_results.append(best_loss)\n",
    "    \n",
    "    # Optionally, save each fold's best model:\n",
    "    torch.save(best_state, f'best_model_fold_{fold+1}.pth')\n",
    "    \n",
    "print(\"\\nCV Results:\")\n",
    "print(f\"Average validation loss: {np.mean(fold_results):.4f}\")"
   ]
  },
  {
   "cell_type": "code",
   "execution_count": 7,
   "metadata": {},
   "outputs": [
    {
     "name": "stdout",
     "output_type": "stream",
     "text": [
      "Test MAE: 5.8977\n",
      "Test R²: 0.0269\n"
     ]
    },
    {
     "data": {
      "image/png": "[encoded data removed]",
      "text/plain": [
       "<Figure size 1000x600 with 1 Axes>"
      ]
     },
     "metadata": {},
     "output_type": "display_data"
    }
   ],
   "source": [
    "# Cell 6: (Optional) Evaluation on a Hold-Out Test Set & Visualization\n",
    "\n",
    "# If you have a separate test set, load and scale it in the same way:\n",
    "# (Assuming test_df is already defined and scaled as in Cell 2.)\n",
    "test_ds = StockDataset(df, scale_cols, id_cols)  # or use a dedicated test_df\n",
    "test_loader = DataLoader(test_ds, batch_size=BATCH_SIZE)\n",
    "\n",
    "# Load one of the best models (e.g., from fold 1) for evaluation:\n",
    "model = CNN(input_dim=model_input_dim).to(device)\n",
    "model.load_state_dict(torch.load('best_model_fold_1.pth'))\n",
    "model.eval()\n",
    "\n",
    "preds, targets = [], []\n",
    "with torch.no_grad():\n",
    "    for X, y in test_loader:\n",
    "        X = X.to(device)\n",
    "        outputs = model(X)\n",
    "        preds.append(outputs.cpu())\n",
    "        targets.append(y)\n",
    "preds = torch.cat(preds).numpy()\n",
    "targets = torch.cat(targets).numpy()\n",
    "\n",
    "print(f'Test MAE: {mean_absolute_error(targets, preds):.4f}')\n",
    "print(f'Test R²: {r2_score(targets, preds):.4f}')\n",
    "\n",
    "# Visualization: True vs Predicted\n",
    "plt.figure(figsize=(10, 6))\n",
    "plt.scatter(targets, preds, alpha=0.5)\n",
    "plt.xlabel(\"True Target\")\n",
    "plt.ylabel(\"Predicted Target\")\n",
    "plt.title(\"True vs Predicted Values\")\n",
    "plt.plot([targets.min(), targets.max()], [targets.min(), targets.max()], 'r--', lw=2)\n",
    "plt.grid(True)\n",
    "plt.show()\n"
   ]
  }
 ],
 "metadata": {
  "kernelspec": {
   "display_name": "cosc78",
   "language": "python",
   "name": "python3"
  },
  "language_info": {
   "codemirror_mode": {
    "name": "ipython",
    "version": 3
   },
   "file_extension": ".py",
   "mimetype": "text/x-python",
   "name": "python",
   "nbconvert_exporter": "python",
   "pygments_lexer": "ipython3",
   "version": "3.11.5"
  }
 },
 "nbformat": 4,
 "nbformat_minor": 2
}
